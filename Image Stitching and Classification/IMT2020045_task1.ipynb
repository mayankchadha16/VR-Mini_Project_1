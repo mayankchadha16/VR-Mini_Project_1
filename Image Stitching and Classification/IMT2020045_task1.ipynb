{
 "cells": [
  {
   "cell_type": "code",
   "execution_count": null,
   "metadata": {},
   "outputs": [],
   "source": [
    "import cv2\n",
    "import numpy as np\n",
    "\n",
    "\n",
    "class PanoramaSticher:\n",
    "\n",
    "    def __init__(self, path_1, path_2):\n",
    "\n",
    "        self.img1 = cv2.imread(path_1)\n",
    "        self.img_gray1 = cv2.cvtColor(self.img1, cv2.COLOR_BGR2GRAY)\n",
    "\n",
    "        self.img2 = cv2.imread(path_2)\n",
    "        self.img_gray2 = cv2.cvtColor(self.img2, cv2.COLOR_BGR2GRAY)\n",
    "\n",
    "    def make_output(self):\n",
    "\n",
    "        # Detect keypoints and features for both images\n",
    "        kpsA, featuresA = cv2.SIFT_create().detectAndCompute(self.img_gray1, None)\n",
    "        kpsB, featuresB = cv2.SIFT_create().detectAndCompute(self.img_gray2, None)\n",
    "\n",
    "        # Match keypoints between the two images\n",
    "        matches = cv2.BFMatcher(cv2.NORM_L2, crossCheck=False).knnMatch(featuresA, featuresB, 2)\n",
    "\n",
    "        # Select only good matches\n",
    "        good_matches = [m for m, n in matches if m.distance < n.distance * 0.75]\n",
    "\n",
    "        # Convert keypoints to numpy arrays\n",
    "        kpsA = np.float32([kp.pt for kp in kpsA])\n",
    "        kpsB = np.float32([kp.pt for kp in kpsB])\n",
    "\n",
    "        # Get the corresponding points for the good matches\n",
    "        ptsA = np.float32([kpsA[m.queryIdx] for m in good_matches])\n",
    "        ptsB = np.float32([kpsB[m.trainIdx] for m in good_matches])\n",
    "\n",
    "        # Compute homography matrix using RANSAC\n",
    "        (H, status) = cv2.findHomography(ptsA, ptsB, cv2.RANSAC, 5)\n",
    "\n",
    "        # Stitch the images together to create the panorama\n",
    "        result = cv2.warpPerspective(self.img1, H, (self.img1.shape[1] + self.img2.shape[1], self.img2.shape[0]))\n",
    "        result[0:self.img2.shape[0], 0:self.img2.shape[1]] = self.img2\n",
    "\n",
    "        # Save the output image\n",
    "        cv2.imwrite('Output.jpg', result)\n",
    "\n",
    "\n",
    "PS = PanoramaSticher('1.jpg', '2.jpg')\n",
    "PS.make_output()"
   ]
  }
 ],
 "metadata": {
  "kernelspec": {
   "display_name": "Python 3",
   "language": "python",
   "name": "python3"
  },
  "language_info": {
   "codemirror_mode": {
    "name": "ipython",
    "version": 3
   },
   "file_extension": ".py",
   "mimetype": "text/x-python",
   "name": "python",
   "nbconvert_exporter": "python",
   "pygments_lexer": "ipython3",
   "version": "3.8.10"
  },
  "orig_nbformat": 4,
  "vscode": {
   "interpreter": {
    "hash": "e7370f93d1d0cde622a1f8e1c04877d8463912d04d973331ad4851f04de6915a"
   }
  }
 },
 "nbformat": 4,
 "nbformat_minor": 2
}
