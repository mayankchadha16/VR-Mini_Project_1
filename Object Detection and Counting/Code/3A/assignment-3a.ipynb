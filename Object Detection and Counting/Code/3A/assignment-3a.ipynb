{
 "cells": [
  {
   "cell_type": "code",
   "execution_count": 1,
   "id": "b4e46ecf",
   "metadata": {
    "execution": {
     "iopub.execute_input": "2023-03-11T04:01:49.432755Z",
     "iopub.status.busy": "2023-03-11T04:01:49.431627Z",
     "iopub.status.idle": "2023-03-11T04:01:51.630026Z",
     "shell.execute_reply": "2023-03-11T04:01:51.629076Z"
    },
    "papermill": {
     "duration": 2.207014,
     "end_time": "2023-03-11T04:01:51.632618",
     "exception": false,
     "start_time": "2023-03-11T04:01:49.425604",
     "status": "completed"
    },
    "tags": []
   },
   "outputs": [],
   "source": [
    "import torch\n",
    "import torch.nn as nn\n",
    "import torch.optim as optim\n",
    "import torchvision\n",
    "from torchvision import transforms\n",
    "\n",
    "import time\n",
    "import numpy as np\n",
    "\n",
    "from tqdm import tqdm"
   ]
  },
  {
   "cell_type": "code",
   "execution_count": 2,
   "id": "b8a12556",
   "metadata": {
    "execution": {
     "iopub.execute_input": "2023-03-11T04:01:51.643226Z",
     "iopub.status.busy": "2023-03-11T04:01:51.642786Z",
     "iopub.status.idle": "2023-03-11T04:01:57.343769Z",
     "shell.execute_reply": "2023-03-11T04:01:57.342630Z"
    },
    "papermill": {
     "duration": 5.707793,
     "end_time": "2023-03-11T04:01:57.346240",
     "exception": false,
     "start_time": "2023-03-11T04:01:51.638447",
     "status": "completed"
    },
    "tags": []
   },
   "outputs": [
    {
     "name": "stdout",
     "output_type": "stream",
     "text": [
      "Downloading https://www.cs.toronto.edu/~kriz/cifar-10-python.tar.gz to ./data/cifar-10-python.tar.gz\n"
     ]
    },
    {
     "data": {
      "application/vnd.jupyter.widget-view+json": {
       "model_id": "e4822c2664c84694a218c843b346239f",
       "version_major": 2,
       "version_minor": 0
      },
      "text/plain": [
       "  0%|          | 0/170498071 [00:00<?, ?it/s]"
      ]
     },
     "metadata": {},
     "output_type": "display_data"
    },
    {
     "name": "stdout",
     "output_type": "stream",
     "text": [
      "Extracting ./data/cifar-10-python.tar.gz to ./data\n",
      "Files already downloaded and verified\n"
     ]
    }
   ],
   "source": [
    "train_set = torchvision.datasets.CIFAR10(root='./data', train=True, download=True, transform=transforms.ToTensor())\n",
    "test_set = torchvision.datasets.CIFAR10(root='./data', train=False, download=True, transform=transforms.ToTensor())\n",
    "\n",
    "train_loader = torch.utils.data.DataLoader(train_set, batch_size=64, shuffle=True)\n",
    "test_loader = torch.utils.data.DataLoader(test_set, batch_size=64, shuffle=False)"
   ]
  },
  {
   "cell_type": "markdown",
   "id": "14ce2be3",
   "metadata": {
    "papermill": {
     "duration": 0.003541,
     "end_time": "2023-03-11T04:01:57.353752",
     "exception": false,
     "start_time": "2023-03-11T04:01:57.350211",
     "status": "completed"
    },
    "tags": []
   },
   "source": [
    "### Building a Convolutional Neural Network\n",
    "\n",
    "#### References\n",
    "\n",
    "[Comparison between activation functions](https://www.aitude.com/comparison-of-sigmoid-tanh-and-relu-activation-functions/#:~:text=ReLu%20is%20the%20best%20and,compare%20to%20other%20activation%20function.)\\\n",
    "[Adaptive Learning](https://towardsdatascience.com/learning-rate-schedules-and-adaptive-learning-rate-methods-for-deep-learning-2c8f433990d1)\\\n",
    "[Momentum or No Momentum](https://medium.com/analytics-vidhya/why-use-the-momentum-optimizer-with-minimal-code-example-8f5d93c33a53)\\\n",
    "[Momentum vs Adaptive Learning](https://medium.com/@vinodhb95/momentum-optimizer-6023aa445e18)"
   ]
  },
  {
   "cell_type": "code",
   "execution_count": 3,
   "id": "f61ac6f6",
   "metadata": {
    "execution": {
     "iopub.execute_input": "2023-03-11T04:01:57.362229Z",
     "iopub.status.busy": "2023-03-11T04:01:57.361927Z",
     "iopub.status.idle": "2023-03-11T04:01:57.372274Z",
     "shell.execute_reply": "2023-03-11T04:01:57.371404Z"
    },
    "papermill": {
     "duration": 0.017047,
     "end_time": "2023-03-11T04:01:57.374239",
     "exception": false,
     "start_time": "2023-03-11T04:01:57.357192",
     "status": "completed"
    },
    "tags": []
   },
   "outputs": [],
   "source": [
    "class MyCNN(nn.Module):\n",
    "    def __init__(self, activation):\n",
    "        super(MyCNN, self).__init__()\n",
    "        self.activation = activation\n",
    "        self.conv1 = nn.Conv2d(3, 32, kernel_size=3, padding=1)\n",
    "        self.conv2 = nn.Conv2d(32, 32, kernel_size=3, padding=1)\n",
    "        self.pool1 = nn.MaxPool2d(kernel_size=2, stride=2)\n",
    "        self.conv3 = nn.Conv2d(32, 64, kernel_size=3, padding=1)\n",
    "        self.conv4 = nn.Conv2d(64, 64, kernel_size=3, padding=1)\n",
    "        self.pool2 = nn.MaxPool2d(kernel_size=2, stride=2)\n",
    "        self.dropout = nn.Dropout(0.5)\n",
    "        self.fc1 = nn.Linear(4096, 128)\n",
    "        self.fc2 = nn.Linear(128, 10)\n",
    "        \n",
    "    def forward(self, x):\n",
    "        x = self.activation(self.conv1(x))\n",
    "        x = self.activation(self.conv2(x))\n",
    "        x = self.pool1(x)\n",
    "        x = self.activation(self.conv3(x))\n",
    "        x = self.activation(self.conv4(x))\n",
    "        x = self.pool2(x)\n",
    "        x = x.view(-1, 64*8*8)\n",
    "        x = self.dropout(x)\n",
    "        x = self.activation(self.fc1(x))\n",
    "        x = self.fc2(x)\n",
    "        return x\n"
   ]
  },
  {
   "cell_type": "code",
   "execution_count": 4,
   "id": "f0349d29",
   "metadata": {
    "execution": {
     "iopub.execute_input": "2023-03-11T04:01:57.382982Z",
     "iopub.status.busy": "2023-03-11T04:01:57.382225Z",
     "iopub.status.idle": "2023-03-11T04:01:57.388432Z",
     "shell.execute_reply": "2023-03-11T04:01:57.387498Z"
    },
    "papermill": {
     "duration": 0.012712,
     "end_time": "2023-03-11T04:01:57.390407",
     "exception": false,
     "start_time": "2023-03-11T04:01:57.377695",
     "status": "completed"
    },
    "tags": []
   },
   "outputs": [],
   "source": [
    "def training_loop(optimizer, criterion = nn.CrossEntropyLoss().cuda()):\n",
    "    \n",
    "    num_epochs = 10\n",
    "    for epoch in tqdm(range(num_epochs)):\n",
    "        model.train()\n",
    "        for images, labels in train_loader:\n",
    "            images, labels = images.cuda(), labels.cuda() # add this line\n",
    "            \n",
    "            optimizer.zero_grad()\n",
    "            \n",
    "            outputs = model(images)\n",
    "            \n",
    "            loss = criterion(outputs, labels)\n",
    "            loss.backward()\n",
    "            \n",
    "            optimizer.step()"
   ]
  },
  {
   "cell_type": "code",
   "execution_count": 5,
   "id": "63822e01",
   "metadata": {
    "execution": {
     "iopub.execute_input": "2023-03-11T04:01:57.398477Z",
     "iopub.status.busy": "2023-03-11T04:01:57.398222Z",
     "iopub.status.idle": "2023-03-11T04:01:57.404133Z",
     "shell.execute_reply": "2023-03-11T04:01:57.403212Z"
    },
    "papermill": {
     "duration": 0.012171,
     "end_time": "2023-03-11T04:01:57.406051",
     "exception": false,
     "start_time": "2023-03-11T04:01:57.393880",
     "status": "completed"
    },
    "tags": []
   },
   "outputs": [],
   "source": [
    "def testing_loop():\n",
    "    model.eval()\n",
    "    \n",
    "    total_correct = 0\n",
    "    total_images = 0\n",
    "    \n",
    "    with torch.no_grad():\n",
    "        for images, labels in test_loader:\n",
    "            images, labels = images.cuda(), labels.cuda()\n",
    "            \n",
    "            outputs = model(images)\n",
    "            \n",
    "            predictions = torch.argmax(outputs, dim=1)\n",
    "            \n",
    "            total_correct += (predictions == labels).sum().item()\n",
    "            total_images += labels.shape[0]\n",
    "            \n",
    "    accuracy = total_correct / total_images\n",
    "    return accuracy"
   ]
  },
  {
   "cell_type": "code",
   "execution_count": 6,
   "id": "d5bea5d9",
   "metadata": {
    "execution": {
     "iopub.execute_input": "2023-03-11T04:01:57.414406Z",
     "iopub.status.busy": "2023-03-11T04:01:57.413668Z",
     "iopub.status.idle": "2023-03-11T04:01:57.419764Z",
     "shell.execute_reply": "2023-03-11T04:01:57.418851Z"
    },
    "papermill": {
     "duration": 0.012216,
     "end_time": "2023-03-11T04:01:57.421650",
     "exception": false,
     "start_time": "2023-03-11T04:01:57.409434",
     "status": "completed"
    },
    "tags": []
   },
   "outputs": [],
   "source": [
    "def ModelTester(model,optimizer, name, opt_name):\n",
    "\n",
    "    if torch.cuda.is_available():\n",
    "        model.cuda()\n",
    "    \n",
    "    start = time.time()\n",
    "    \n",
    "    training_loop(optimizer)\n",
    "    print()\n",
    "    print(\"###################################################################################################################\")\n",
    "    print(f\"# Training Time for activation {name} with {opt_name}: \", time.time() - start, \"seconds\")\n",
    "    test_accuracy = testing_loop()\n",
    "    print(f\"# Classification Performance for activation {name} with {opt_name}: {test_accuracy}\")\n",
    "    print(\"###################################################################################################################\")"
   ]
  },
  {
   "cell_type": "code",
   "execution_count": 7,
   "id": "dd008cca",
   "metadata": {
    "execution": {
     "iopub.execute_input": "2023-03-11T04:01:57.430458Z",
     "iopub.status.busy": "2023-03-11T04:01:57.429628Z",
     "iopub.status.idle": "2023-03-11T04:03:33.745020Z",
     "shell.execute_reply": "2023-03-11T04:03:33.743514Z"
    },
    "papermill": {
     "duration": 96.322306,
     "end_time": "2023-03-11T04:03:33.747540",
     "exception": false,
     "start_time": "2023-03-11T04:01:57.425234",
     "status": "completed"
    },
    "tags": []
   },
   "outputs": [
    {
     "name": "stderr",
     "output_type": "stream",
     "text": [
      "100%|██████████| 10/10 [01:32<00:00,  9.26s/it]\n"
     ]
    },
    {
     "name": "stdout",
     "output_type": "stream",
     "text": [
      "\n",
      "###################################################################################################################\n",
      "# Training Time for activation relu with Adaptive Learning (Adam):  92.60604524612427 seconds\n",
      "# Classification Performance for activation relu with Adaptive Learning (Adam): 0.7554\n",
      "###################################################################################################################\n"
     ]
    }
   ],
   "source": [
    "activation = nn.ReLU().cuda()\n",
    "model = MyCNN(activation)\n",
    "ModelTester(model, optimizer = optim.Adam(model.parameters()), name = \"relu\", opt_name = \"Adaptive Learning (Adam)\")"
   ]
  },
  {
   "cell_type": "code",
   "execution_count": 8,
   "id": "650b4b57",
   "metadata": {
    "execution": {
     "iopub.execute_input": "2023-03-11T04:03:33.760389Z",
     "iopub.status.busy": "2023-03-11T04:03:33.758701Z",
     "iopub.status.idle": "2023-03-11T04:05:08.005146Z",
     "shell.execute_reply": "2023-03-11T04:05:08.003644Z"
    },
    "papermill": {
     "duration": 94.255207,
     "end_time": "2023-03-11T04:05:08.007663",
     "exception": false,
     "start_time": "2023-03-11T04:03:33.752456",
     "status": "completed"
    },
    "tags": []
   },
   "outputs": [
    {
     "name": "stderr",
     "output_type": "stream",
     "text": [
      "100%|██████████| 10/10 [01:32<00:00,  9.28s/it]\n"
     ]
    },
    {
     "name": "stdout",
     "output_type": "stream",
     "text": [
      "\n",
      "###################################################################################################################\n",
      "# Training Time for activation tanh with Adaptive Learning (Adam):  92.77146744728088 seconds\n",
      "# Classification Performance for activation tanh with Adaptive Learning (Adam): 0.7074\n",
      "###################################################################################################################\n"
     ]
    }
   ],
   "source": [
    "activation = nn.Tanh().cuda()\n",
    "model = MyCNN(activation)\n",
    "ModelTester(model, optimizer = optim.Adam(model.parameters()), name = \"tanh\", opt_name = \"Adaptive Learning (Adam)\")"
   ]
  },
  {
   "cell_type": "code",
   "execution_count": 9,
   "id": "112ec594",
   "metadata": {
    "execution": {
     "iopub.execute_input": "2023-03-11T04:05:08.021162Z",
     "iopub.status.busy": "2023-03-11T04:05:08.020800Z",
     "iopub.status.idle": "2023-03-11T04:06:42.469647Z",
     "shell.execute_reply": "2023-03-11T04:06:42.468128Z"
    },
    "papermill": {
     "duration": 94.458352,
     "end_time": "2023-03-11T04:06:42.472077",
     "exception": false,
     "start_time": "2023-03-11T04:05:08.013725",
     "status": "completed"
    },
    "tags": []
   },
   "outputs": [
    {
     "name": "stderr",
     "output_type": "stream",
     "text": [
      "100%|██████████| 10/10 [01:33<00:00,  9.30s/it]\n"
     ]
    },
    {
     "name": "stdout",
     "output_type": "stream",
     "text": [
      "\n",
      "###################################################################################################################\n",
      "# Training Time for activation sigmoid with Adaptive Learning (Adam):  93.0284218788147 seconds\n",
      "# Classification Performance for activation sigmoid with Adaptive Learning (Adam): 0.5957\n",
      "###################################################################################################################\n"
     ]
    }
   ],
   "source": [
    "activation = nn.Sigmoid().cuda()\n",
    "model = MyCNN(activation)\n",
    "ModelTester(model, optimizer = optim.Adam(model.parameters()), name = \"sigmoid\", opt_name = \"Adaptive Learning (Adam)\")"
   ]
  },
  {
   "cell_type": "code",
   "execution_count": 10,
   "id": "b15f31b4",
   "metadata": {
    "execution": {
     "iopub.execute_input": "2023-03-11T04:06:42.487143Z",
     "iopub.status.busy": "2023-03-11T04:06:42.486830Z",
     "iopub.status.idle": "2023-03-11T04:08:08.240110Z",
     "shell.execute_reply": "2023-03-11T04:08:08.238486Z"
    },
    "papermill": {
     "duration": 85.763372,
     "end_time": "2023-03-11T04:08:08.242396",
     "exception": false,
     "start_time": "2023-03-11T04:06:42.479024",
     "status": "completed"
    },
    "tags": []
   },
   "outputs": [
    {
     "name": "stderr",
     "output_type": "stream",
     "text": [
      "100%|██████████| 10/10 [01:24<00:00,  8.43s/it]\n"
     ]
    },
    {
     "name": "stdout",
     "output_type": "stream",
     "text": [
      "\n",
      "###################################################################################################################\n",
      "# Training Time for activation relu with Without Momentum (SGD):  84.31399202346802 seconds\n",
      "# Classification Performance for activation relu with Without Momentum (SGD): 0.5192\n",
      "###################################################################################################################\n"
     ]
    }
   ],
   "source": [
    "activation = nn.ReLU().cuda()\n",
    "model = MyCNN(activation)\n",
    "ModelTester(model, optimizer = optim.SGD(model.parameters(), lr=0.01), name = \"relu\", opt_name = \"Without Momentum (SGD)\")"
   ]
  },
  {
   "cell_type": "code",
   "execution_count": 11,
   "id": "03495f8a",
   "metadata": {
    "execution": {
     "iopub.execute_input": "2023-03-11T04:08:08.259409Z",
     "iopub.status.busy": "2023-03-11T04:08:08.258380Z",
     "iopub.status.idle": "2023-03-11T04:09:35.057884Z",
     "shell.execute_reply": "2023-03-11T04:09:35.055821Z"
    },
    "papermill": {
     "duration": 86.810208,
     "end_time": "2023-03-11T04:09:35.060540",
     "exception": false,
     "start_time": "2023-03-11T04:08:08.250332",
     "status": "completed"
    },
    "tags": []
   },
   "outputs": [
    {
     "name": "stderr",
     "output_type": "stream",
     "text": [
      "100%|██████████| 10/10 [01:25<00:00,  8.54s/it]\n"
     ]
    },
    {
     "name": "stdout",
     "output_type": "stream",
     "text": [
      "\n",
      "###################################################################################################################\n",
      "# Training Time for activation relu with With Momentum (SGD):  85.36595320701599 seconds\n",
      "# Classification Performance for activation relu with With Momentum (SGD): 0.7589\n",
      "###################################################################################################################\n"
     ]
    }
   ],
   "source": [
    "activation = nn.ReLU().cuda()\n",
    "model = MyCNN(activation)\n",
    "ModelTester(model, optimizer = optim.SGD(model.parameters(), lr=0.01, momentum = 0.9), name = \"relu\", opt_name = \"With Momentum (SGD)\")"
   ]
  },
  {
   "cell_type": "code",
   "execution_count": 12,
   "id": "dbb2453d",
   "metadata": {
    "execution": {
     "iopub.execute_input": "2023-03-11T04:09:35.078810Z",
     "iopub.status.busy": "2023-03-11T04:09:35.078456Z",
     "iopub.status.idle": "2023-03-11T04:11:08.698490Z",
     "shell.execute_reply": "2023-03-11T04:11:08.696254Z"
    },
    "papermill": {
     "duration": 93.631796,
     "end_time": "2023-03-11T04:11:08.700865",
     "exception": false,
     "start_time": "2023-03-11T04:09:35.069069",
     "status": "completed"
    },
    "tags": []
   },
   "outputs": [
    {
     "name": "stderr",
     "output_type": "stream",
     "text": [
      "100%|██████████| 10/10 [01:32<00:00,  9.22s/it]\n"
     ]
    },
    {
     "name": "stdout",
     "output_type": "stream",
     "text": [
      "\n",
      "###################################################################################################################\n",
      "# Training Time for activation relu with Adaptive Learning (Adam):  92.16127705574036 seconds\n",
      "# Classification Performance for activation relu with Adaptive Learning (Adam): 0.7645\n",
      "###################################################################################################################\n"
     ]
    }
   ],
   "source": [
    "activation = nn.ReLU().cuda()\n",
    "model = MyCNN(activation)\n",
    "ModelTester(model, optimizer = optim.Adam(model.parameters()), name = \"relu\", opt_name = \"Adaptive Learning (Adam)\")"
   ]
  },
  {
   "cell_type": "code",
   "execution_count": null,
   "id": "10405ab1",
   "metadata": {
    "papermill": {
     "duration": 0.008701,
     "end_time": "2023-03-11T04:11:08.718862",
     "exception": false,
     "start_time": "2023-03-11T04:11:08.710161",
     "status": "completed"
    },
    "tags": []
   },
   "outputs": [],
   "source": []
  }
 ],
 "metadata": {
  "kernelspec": {
   "display_name": "Python 3",
   "language": "python",
   "name": "python3"
  },
  "language_info": {
   "codemirror_mode": {
    "name": "ipython",
    "version": 3
   },
   "file_extension": ".py",
   "mimetype": "text/x-python",
   "name": "python",
   "nbconvert_exporter": "python",
   "pygments_lexer": "ipython3",
   "version": "3.7.12"
  },
  "papermill": {
   "default_parameters": {},
   "duration": 569.583935,
   "end_time": "2023-03-11T04:11:11.149438",
   "environment_variables": {},
   "exception": null,
   "input_path": "__notebook__.ipynb",
   "output_path": "__notebook__.ipynb",
   "parameters": {},
   "start_time": "2023-03-11T04:01:41.565503",
   "version": "2.3.4"
  },
  "widgets": {
   "application/vnd.jupyter.widget-state+json": {
    "state": {
     "030bcabd986d474e96c07a0e010db5fd": {
      "model_module": "@jupyter-widgets/base",
      "model_module_version": "1.2.0",
      "model_name": "LayoutModel",
      "state": {
       "_model_module": "@jupyter-widgets/base",
       "_model_module_version": "1.2.0",
       "_model_name": "LayoutModel",
       "_view_count": null,
       "_view_module": "@jupyter-widgets/base",
       "_view_module_version": "1.2.0",
       "_view_name": "LayoutView",
       "align_content": null,
       "align_items": null,
       "align_self": null,
       "border": null,
       "bottom": null,
       "display": null,
       "flex": null,
       "flex_flow": null,
       "grid_area": null,
       "grid_auto_columns": null,
       "grid_auto_flow": null,
       "grid_auto_rows": null,
       "grid_column": null,
       "grid_gap": null,
       "grid_row": null,
       "grid_template_areas": null,
       "grid_template_columns": null,
       "grid_template_rows": null,
       "height": null,
       "justify_content": null,
       "justify_items": null,
       "left": null,
       "margin": null,
       "max_height": null,
       "max_width": null,
       "min_height": null,
       "min_width": null,
       "object_fit": null,
       "object_position": null,
       "order": null,
       "overflow": null,
       "overflow_x": null,
       "overflow_y": null,
       "padding": null,
       "right": null,
       "top": null,
       "visibility": null,
       "width": null
      }
     },
     "1a688325f3f1402aaa2530077bacffa1": {
      "model_module": "@jupyter-widgets/controls",
      "model_module_version": "1.5.0",
      "model_name": "HTMLModel",
      "state": {
       "_dom_classes": [],
       "_model_module": "@jupyter-widgets/controls",
       "_model_module_version": "1.5.0",
       "_model_name": "HTMLModel",
       "_view_count": null,
       "_view_module": "@jupyter-widgets/controls",
       "_view_module_version": "1.5.0",
       "_view_name": "HTMLView",
       "description": "",
       "description_tooltip": null,
       "layout": "IPY_MODEL_c772892f0c754da19825ff5277a59c2f",
       "placeholder": "​",
       "style": "IPY_MODEL_7700791e840a408f8a3d8b2b8de3f6da",
       "value": "100%"
      }
     },
     "1a828d1e5d82478ca880004016d85a8e": {
      "model_module": "@jupyter-widgets/base",
      "model_module_version": "1.2.0",
      "model_name": "LayoutModel",
      "state": {
       "_model_module": "@jupyter-widgets/base",
       "_model_module_version": "1.2.0",
       "_model_name": "LayoutModel",
       "_view_count": null,
       "_view_module": "@jupyter-widgets/base",
       "_view_module_version": "1.2.0",
       "_view_name": "LayoutView",
       "align_content": null,
       "align_items": null,
       "align_self": null,
       "border": null,
       "bottom": null,
       "display": null,
       "flex": null,
       "flex_flow": null,
       "grid_area": null,
       "grid_auto_columns": null,
       "grid_auto_flow": null,
       "grid_auto_rows": null,
       "grid_column": null,
       "grid_gap": null,
       "grid_row": null,
       "grid_template_areas": null,
       "grid_template_columns": null,
       "grid_template_rows": null,
       "height": null,
       "justify_content": null,
       "justify_items": null,
       "left": null,
       "margin": null,
       "max_height": null,
       "max_width": null,
       "min_height": null,
       "min_width": null,
       "object_fit": null,
       "object_position": null,
       "order": null,
       "overflow": null,
       "overflow_x": null,
       "overflow_y": null,
       "padding": null,
       "right": null,
       "top": null,
       "visibility": null,
       "width": null
      }
     },
     "7700791e840a408f8a3d8b2b8de3f6da": {
      "model_module": "@jupyter-widgets/controls",
      "model_module_version": "1.5.0",
      "model_name": "DescriptionStyleModel",
      "state": {
       "_model_module": "@jupyter-widgets/controls",
       "_model_module_version": "1.5.0",
       "_model_name": "DescriptionStyleModel",
       "_view_count": null,
       "_view_module": "@jupyter-widgets/base",
       "_view_module_version": "1.2.0",
       "_view_name": "StyleView",
       "description_width": ""
      }
     },
     "7cf5b2279d024e0d8db489fe98c3330f": {
      "model_module": "@jupyter-widgets/controls",
      "model_module_version": "1.5.0",
      "model_name": "ProgressStyleModel",
      "state": {
       "_model_module": "@jupyter-widgets/controls",
       "_model_module_version": "1.5.0",
       "_model_name": "ProgressStyleModel",
       "_view_count": null,
       "_view_module": "@jupyter-widgets/base",
       "_view_module_version": "1.2.0",
       "_view_name": "StyleView",
       "bar_color": null,
       "description_width": ""
      }
     },
     "9044e6424e3f4e888f7b348a15d59b41": {
      "model_module": "@jupyter-widgets/controls",
      "model_module_version": "1.5.0",
      "model_name": "FloatProgressModel",
      "state": {
       "_dom_classes": [],
       "_model_module": "@jupyter-widgets/controls",
       "_model_module_version": "1.5.0",
       "_model_name": "FloatProgressModel",
       "_view_count": null,
       "_view_module": "@jupyter-widgets/controls",
       "_view_module_version": "1.5.0",
       "_view_name": "ProgressView",
       "bar_style": "success",
       "description": "",
       "description_tooltip": null,
       "layout": "IPY_MODEL_b37e06d0f1a64cd8963ec3a355d47d15",
       "max": 170498071.0,
       "min": 0.0,
       "orientation": "horizontal",
       "style": "IPY_MODEL_7cf5b2279d024e0d8db489fe98c3330f",
       "value": 170498071.0
      }
     },
     "a61c838aa89e42118c23e711ebdfd892": {
      "model_module": "@jupyter-widgets/controls",
      "model_module_version": "1.5.0",
      "model_name": "HTMLModel",
      "state": {
       "_dom_classes": [],
       "_model_module": "@jupyter-widgets/controls",
       "_model_module_version": "1.5.0",
       "_model_name": "HTMLModel",
       "_view_count": null,
       "_view_module": "@jupyter-widgets/controls",
       "_view_module_version": "1.5.0",
       "_view_name": "HTMLView",
       "description": "",
       "description_tooltip": null,
       "layout": "IPY_MODEL_1a828d1e5d82478ca880004016d85a8e",
       "placeholder": "​",
       "style": "IPY_MODEL_ecfa06cc0f9144a4afcd7c9351fc3e67",
       "value": " 170498071/170498071 [00:02&lt;00:00, 81717868.89it/s]"
      }
     },
     "b37e06d0f1a64cd8963ec3a355d47d15": {
      "model_module": "@jupyter-widgets/base",
      "model_module_version": "1.2.0",
      "model_name": "LayoutModel",
      "state": {
       "_model_module": "@jupyter-widgets/base",
       "_model_module_version": "1.2.0",
       "_model_name": "LayoutModel",
       "_view_count": null,
       "_view_module": "@jupyter-widgets/base",
       "_view_module_version": "1.2.0",
       "_view_name": "LayoutView",
       "align_content": null,
       "align_items": null,
       "align_self": null,
       "border": null,
       "bottom": null,
       "display": null,
       "flex": null,
       "flex_flow": null,
       "grid_area": null,
       "grid_auto_columns": null,
       "grid_auto_flow": null,
       "grid_auto_rows": null,
       "grid_column": null,
       "grid_gap": null,
       "grid_row": null,
       "grid_template_areas": null,
       "grid_template_columns": null,
       "grid_template_rows": null,
       "height": null,
       "justify_content": null,
       "justify_items": null,
       "left": null,
       "margin": null,
       "max_height": null,
       "max_width": null,
       "min_height": null,
       "min_width": null,
       "object_fit": null,
       "object_position": null,
       "order": null,
       "overflow": null,
       "overflow_x": null,
       "overflow_y": null,
       "padding": null,
       "right": null,
       "top": null,
       "visibility": null,
       "width": null
      }
     },
     "c772892f0c754da19825ff5277a59c2f": {
      "model_module": "@jupyter-widgets/base",
      "model_module_version": "1.2.0",
      "model_name": "LayoutModel",
      "state": {
       "_model_module": "@jupyter-widgets/base",
       "_model_module_version": "1.2.0",
       "_model_name": "LayoutModel",
       "_view_count": null,
       "_view_module": "@jupyter-widgets/base",
       "_view_module_version": "1.2.0",
       "_view_name": "LayoutView",
       "align_content": null,
       "align_items": null,
       "align_self": null,
       "border": null,
       "bottom": null,
       "display": null,
       "flex": null,
       "flex_flow": null,
       "grid_area": null,
       "grid_auto_columns": null,
       "grid_auto_flow": null,
       "grid_auto_rows": null,
       "grid_column": null,
       "grid_gap": null,
       "grid_row": null,
       "grid_template_areas": null,
       "grid_template_columns": null,
       "grid_template_rows": null,
       "height": null,
       "justify_content": null,
       "justify_items": null,
       "left": null,
       "margin": null,
       "max_height": null,
       "max_width": null,
       "min_height": null,
       "min_width": null,
       "object_fit": null,
       "object_position": null,
       "order": null,
       "overflow": null,
       "overflow_x": null,
       "overflow_y": null,
       "padding": null,
       "right": null,
       "top": null,
       "visibility": null,
       "width": null
      }
     },
     "e4822c2664c84694a218c843b346239f": {
      "model_module": "@jupyter-widgets/controls",
      "model_module_version": "1.5.0",
      "model_name": "HBoxModel",
      "state": {
       "_dom_classes": [],
       "_model_module": "@jupyter-widgets/controls",
       "_model_module_version": "1.5.0",
       "_model_name": "HBoxModel",
       "_view_count": null,
       "_view_module": "@jupyter-widgets/controls",
       "_view_module_version": "1.5.0",
       "_view_name": "HBoxView",
       "box_style": "",
       "children": [
        "IPY_MODEL_1a688325f3f1402aaa2530077bacffa1",
        "IPY_MODEL_9044e6424e3f4e888f7b348a15d59b41",
        "IPY_MODEL_a61c838aa89e42118c23e711ebdfd892"
       ],
       "layout": "IPY_MODEL_030bcabd986d474e96c07a0e010db5fd"
      }
     },
     "ecfa06cc0f9144a4afcd7c9351fc3e67": {
      "model_module": "@jupyter-widgets/controls",
      "model_module_version": "1.5.0",
      "model_name": "DescriptionStyleModel",
      "state": {
       "_model_module": "@jupyter-widgets/controls",
       "_model_module_version": "1.5.0",
       "_model_name": "DescriptionStyleModel",
       "_view_count": null,
       "_view_module": "@jupyter-widgets/base",
       "_view_module_version": "1.2.0",
       "_view_name": "StyleView",
       "description_width": ""
      }
     }
    },
    "version_major": 2,
    "version_minor": 0
   }
  }
 },
 "nbformat": 4,
 "nbformat_minor": 5
}
