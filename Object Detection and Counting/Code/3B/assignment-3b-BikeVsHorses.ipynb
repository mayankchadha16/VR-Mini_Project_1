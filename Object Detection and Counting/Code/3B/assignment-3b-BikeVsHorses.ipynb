{
  "metadata": {
    "kernelspec": {
      "language": "python",
      "display_name": "Python 3",
      "name": "python3"
    },
    "language_info": {
      "name": "python",
      "version": "3.7.12",
      "mimetype": "text/x-python",
      "codemirror_mode": {
        "name": "ipython",
        "version": 3
      },
      "pygments_lexer": "ipython3",
      "nbconvert_exporter": "python",
      "file_extension": ".py"
    },
    "colab": {
      "provenance": [],
      "include_colab_link": true
    },
    "accelerator": "GPU",
    "gpuClass": "standard"
  },
  "nbformat_minor": 0,
  "nbformat": 4,
  "cells": [
    {
      "cell_type": "markdown",
      "metadata": {
        "id": "view-in-github",
        "colab_type": "text"
      },
      "source": [
        "<a href=\"https://colab.research.google.com/github/mayankchadha16/VR-Assignment3/blob/main/Assignment_3b_BikevsHorse.ipynb\" target=\"_parent\"><img src=\"https://colab.research.google.com/assets/colab-badge.svg\" alt=\"Open In Colab\"/></a>"
      ]
    },
    {
      "cell_type": "code",
      "source": [
        "from google.colab import drive\n",
        "drive.mount('/content/drive')"
      ],
      "metadata": {
        "colab": {
          "base_uri": "https://localhost:8080/"
        },
        "id": "s0b4h39ld3K5",
        "outputId": "7a3d171d-5d00-498f-dbef-988395d0e318"
      },
      "execution_count": null,
      "outputs": [
        {
          "output_type": "stream",
          "name": "stdout",
          "text": [
            "Drive already mounted at /content/drive; to attempt to forcibly remount, call drive.mount(\"/content/drive\", force_remount=True).\n"
          ]
        }
      ]
    },
    {
      "cell_type": "code",
      "source": [
        "import numpy as np\n",
        "import torch\n",
        "import torch.nn as nn\n",
        "import torchvision\n",
        "from sklearn.model_selection import train_test_split\n",
        "from sklearn.svm import LinearSVC\n",
        "from sklearn.metrics import accuracy_score\n",
        "from sklearn.linear_model import LogisticRegression\n",
        "from sklearn.neighbors import KNeighborsClassifier\n",
        "\n",
        "transform = torchvision.transforms.Compose([\n",
        "    torchvision.transforms.Resize((224, 224)),\n",
        "    torchvision.transforms.ToTensor(),\n",
        "])\n",
        "dataset = torchvision.datasets.ImageFolder(root='/content/drive/MyDrive/Assignment2_BikeHorses', transform=transform)\n",
        "\n",
        "train_dataset, test_dataset = train_test_split(dataset, test_size=0.2, random_state=42)\n"
      ],
      "metadata": {
        "_uuid": "8f2839f25d086af736a60e9eeb907d3b93b6e0e5",
        "_cell_guid": "b1076dfc-b9ad-4769-8c92-a6c4dae69d19",
        "execution": {
          "iopub.status.busy": "2023-02-24T12:42:56.072825Z",
          "iopub.execute_input": "2023-02-24T12:42:56.073144Z"
        },
        "trusted": true,
        "id": "NUFq3ndgdvwo"
      },
      "execution_count": null,
      "outputs": []
    },
    {
      "cell_type": "code",
      "source": [
        "class ModelMaker():\n",
        "    def __init__(self):\n",
        "        pass\n",
        "        \n",
        "    def model_extractor(self):\n",
        "        resnet = torchvision.models.resnet18()\n",
        "\n",
        "        resnet = torch.nn.Sequential(*list(resnet.children())[:-1])\n",
        "\n",
        "        resnet.eval()\n",
        "\n",
        "        train_features = []\n",
        "        train_labels = []\n",
        "        for images, labels in train_dataset:\n",
        "            with torch.no_grad():\n",
        "                features = resnet(images.unsqueeze(0))\n",
        "            train_features.append(features.squeeze().numpy())\n",
        "            train_labels.append(labels)\n",
        "\n",
        "        test_features = []\n",
        "        test_labels = []\n",
        "        for images, labels in test_dataset:\n",
        "            with torch.no_grad():\n",
        "                features = resnet(images.unsqueeze(0))\n",
        "            test_features.append(features.squeeze().numpy())\n",
        "            test_labels.append(labels)\n",
        "            \n",
        "        train_features = np.array(train_features)\n",
        "        train_labels = np.array(train_labels)\n",
        "        test_features = np.array(test_features)\n",
        "        test_labels = np.array(test_labels)\n",
        "        \n",
        "        return train_features, train_labels, test_features, test_labels\n",
        "        "
      ],
      "metadata": {
        "trusted": true,
        "id": "1EjA9sm8dvwu"
      },
      "execution_count": null,
      "outputs": []
    },
    {
      "cell_type": "code",
      "source": [
        "MM = ModelMaker()\n",
        "train_features, train_labels, test_features, test_labels = MM.model_extractor()"
      ],
      "metadata": {
        "id": "0AgFz6RkERMn"
      },
      "execution_count": null,
      "outputs": []
    },
    {
      "cell_type": "code",
      "source": [
        "def Accuracy_Calculator(classifier, name):\n",
        "    classifier.fit(train_features, train_labels)\n",
        "\n",
        "    predictions = classifier.predict(test_features)\n",
        "\n",
        "    accuracy = accuracy_score(test_labels, predictions)\n",
        "    print(f\"Accuracy for {name}: {accuracy}\")"
      ],
      "metadata": {
        "id": "OkRz0FKHESt-"
      },
      "execution_count": null,
      "outputs": []
    },
    {
      "cell_type": "code",
      "source": [
        "Accuracy_Calculator(LinearSVC(dual=False), \"Support Vector Machine (SVM)\")"
      ],
      "metadata": {
        "colab": {
          "base_uri": "https://localhost:8080/"
        },
        "id": "1HSf5IbzEtDt",
        "outputId": "f437ce34-a942-4262-e612-bbc75b7767f8"
      },
      "execution_count": null,
      "outputs": [
        {
          "output_type": "stream",
          "name": "stdout",
          "text": [
            "Accuracy for Support Vector Machine (SVM): 1.0\n"
          ]
        }
      ]
    },
    {
      "cell_type": "code",
      "source": [
        "Accuracy_Calculator(LogisticRegression(max_iter=3000), \"Logistic Regression (LR)\")"
      ],
      "metadata": {
        "colab": {
          "base_uri": "https://localhost:8080/"
        },
        "id": "gsDQzUmpH8zs",
        "outputId": "5613c192-bb43-432d-de6f-543648875759"
      },
      "execution_count": null,
      "outputs": [
        {
          "output_type": "stream",
          "name": "stdout",
          "text": [
            "Accuracy for Logistic Regression (LR): 0.9722222222222222\n"
          ]
        }
      ]
    },
    {
      "cell_type": "code",
      "source": [
        "Accuracy_Calculator(KNeighborsClassifier(n_neighbors=5), \"K Nearest Neighbour (KNN)\")"
      ],
      "metadata": {
        "id": "fu8xQmesH95k",
        "outputId": "e8d0819b-660f-4f45-9dfa-6339e7ce8f4f",
        "colab": {
          "base_uri": "https://localhost:8080/"
        }
      },
      "execution_count": null,
      "outputs": [
        {
          "output_type": "stream",
          "name": "stdout",
          "text": [
            "Accuracy for K Nearest Neighbour (KNN): 0.9444444444444444\n"
          ]
        }
      ]
    }
  ]
}