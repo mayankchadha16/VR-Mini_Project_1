{
 "cells": [
  {
   "cell_type": "code",
   "execution_count": 1,
   "id": "4b908adb",
   "metadata": {
    "execution": {
     "iopub.execute_input": "2023-03-10T07:12:12.630896Z",
     "iopub.status.busy": "2023-03-10T07:12:12.630241Z",
     "iopub.status.idle": "2023-03-10T07:12:38.463016Z",
     "shell.execute_reply": "2023-03-10T07:12:38.462000Z"
    },
    "papermill": {
     "duration": 25.84272,
     "end_time": "2023-03-10T07:12:38.465751",
     "exception": false,
     "start_time": "2023-03-10T07:12:12.623031",
     "status": "completed"
    },
    "tags": []
   },
   "outputs": [],
   "source": [
    "import numpy as np\n",
    "\n",
    "import torch\n",
    "import torch.nn as nn\n",
    "import torchvision\n",
    "\n",
    "from sklearn.model_selection import train_test_split\n",
    "\n",
    "from sklearn.svm import LinearSVC\n",
    "from sklearn.metrics import accuracy_score\n",
    "from sklearn.linear_model import LogisticRegression\n",
    "from sklearn.neighbors import KNeighborsClassifier\n",
    "\n",
    "transform = torchvision.transforms.Compose([\n",
    "    torchvision.transforms.Resize((224, 224)),\n",
    "    torchvision.transforms.ToTensor(),\n",
    "])\n",
    "\n",
    "dataset = torchvision.datasets.ImageFolder(root='/kaggle/input/multiclass-weather-dataset/Multi-class Weather Dataset', transform=transform)\n",
    "\n",
    "train_dataset, test_dataset = train_test_split(dataset, test_size=0.2, random_state=42)\n"
   ]
  },
  {
   "cell_type": "code",
   "execution_count": 2,
   "id": "9afaa7d8",
   "metadata": {
    "execution": {
     "iopub.execute_input": "2023-03-10T07:12:38.473784Z",
     "iopub.status.busy": "2023-03-10T07:12:38.471985Z",
     "iopub.status.idle": "2023-03-10T07:12:38.481594Z",
     "shell.execute_reply": "2023-03-10T07:12:38.480623Z"
    },
    "papermill": {
     "duration": 0.015051,
     "end_time": "2023-03-10T07:12:38.483626",
     "exception": false,
     "start_time": "2023-03-10T07:12:38.468575",
     "status": "completed"
    },
    "tags": []
   },
   "outputs": [],
   "source": [
    "class ModelMaker():\n",
    "    def __init__(self):\n",
    "        pass\n",
    "        \n",
    "    def model_extractor(self):\n",
    "        resnet = torchvision.models.resnet18()\n",
    "\n",
    "        resnet = torch.nn.Sequential(*list(resnet.children())[:-1])\n",
    "\n",
    "        resnet.eval()\n",
    "\n",
    "        train_features = []\n",
    "        train_labels = []\n",
    "        for images, labels in train_dataset:\n",
    "            with torch.no_grad():\n",
    "                features = resnet(images.unsqueeze(0))\n",
    "            train_features.append(features.squeeze().numpy())\n",
    "            train_labels.append(labels)\n",
    "\n",
    "        test_features = []\n",
    "        test_labels = []\n",
    "        for images, labels in test_dataset:\n",
    "            with torch.no_grad():\n",
    "                features = resnet(images.unsqueeze(0))\n",
    "            test_features.append(features.squeeze().numpy())\n",
    "            test_labels.append(labels)\n",
    "            \n",
    "        train_features = np.array(train_features)\n",
    "        train_labels = np.array(train_labels)\n",
    "        test_features = np.array(test_features)\n",
    "        test_labels = np.array(test_labels)\n",
    "        \n",
    "        return train_features, train_labels, test_features, test_labels\n",
    "        "
   ]
  },
  {
   "cell_type": "code",
   "execution_count": 3,
   "id": "5fcf5385",
   "metadata": {
    "execution": {
     "iopub.execute_input": "2023-03-10T07:12:38.489827Z",
     "iopub.status.busy": "2023-03-10T07:12:38.489549Z",
     "iopub.status.idle": "2023-03-10T07:13:38.642471Z",
     "shell.execute_reply": "2023-03-10T07:13:38.641071Z"
    },
    "papermill": {
     "duration": 60.160651,
     "end_time": "2023-03-10T07:13:38.646892",
     "exception": false,
     "start_time": "2023-03-10T07:12:38.486241",
     "status": "completed"
    },
    "tags": []
   },
   "outputs": [],
   "source": [
    "MM = ModelMaker()\n",
    "train_features, train_labels, test_features, test_labels = MM.model_extractor()"
   ]
  },
  {
   "cell_type": "code",
   "execution_count": 4,
   "id": "2c508b9f",
   "metadata": {
    "execution": {
     "iopub.execute_input": "2023-03-10T07:13:38.653332Z",
     "iopub.status.busy": "2023-03-10T07:13:38.653015Z",
     "iopub.status.idle": "2023-03-10T07:13:38.658247Z",
     "shell.execute_reply": "2023-03-10T07:13:38.657173Z"
    },
    "papermill": {
     "duration": 0.011088,
     "end_time": "2023-03-10T07:13:38.660803",
     "exception": false,
     "start_time": "2023-03-10T07:13:38.649715",
     "status": "completed"
    },
    "tags": []
   },
   "outputs": [],
   "source": [
    "def Accuracy_Calculator(classifier, name):\n",
    "    classifier.fit(train_features, train_labels)\n",
    "\n",
    "    predictions = classifier.predict(test_features)\n",
    "\n",
    "    accuracy = accuracy_score(test_labels, predictions)\n",
    "    \n",
    "    print(\"###################################################################################################################\")\n",
    "    print(f\"# Classification Performance for {name}: {accuracy}\")\n",
    "    print(\"###################################################################################################################\")"
   ]
  },
  {
   "cell_type": "code",
   "execution_count": 5,
   "id": "e194391a",
   "metadata": {
    "execution": {
     "iopub.execute_input": "2023-03-10T07:13:38.666480Z",
     "iopub.status.busy": "2023-03-10T07:13:38.666183Z",
     "iopub.status.idle": "2023-03-10T07:13:39.087681Z",
     "shell.execute_reply": "2023-03-10T07:13:39.086646Z"
    },
    "papermill": {
     "duration": 0.428192,
     "end_time": "2023-03-10T07:13:39.091299",
     "exception": false,
     "start_time": "2023-03-10T07:13:38.663107",
     "status": "completed"
    },
    "tags": []
   },
   "outputs": [
    {
     "name": "stdout",
     "output_type": "stream",
     "text": [
      "###################################################################################################################\n",
      "# Classification Performance for Support Vector Machine (SVM): 0.9244444444444444\n",
      "###################################################################################################################\n"
     ]
    }
   ],
   "source": [
    "Accuracy_Calculator(LinearSVC(dual=False), \"Support Vector Machine (SVM)\")"
   ]
  },
  {
   "cell_type": "code",
   "execution_count": 6,
   "id": "50c36e9b",
   "metadata": {
    "execution": {
     "iopub.execute_input": "2023-03-10T07:13:39.098374Z",
     "iopub.status.busy": "2023-03-10T07:13:39.098031Z",
     "iopub.status.idle": "2023-03-10T07:13:40.478685Z",
     "shell.execute_reply": "2023-03-10T07:13:40.472758Z"
    },
    "papermill": {
     "duration": 1.38731,
     "end_time": "2023-03-10T07:13:40.481964",
     "exception": false,
     "start_time": "2023-03-10T07:13:39.094654",
     "status": "completed"
    },
    "tags": []
   },
   "outputs": [
    {
     "name": "stdout",
     "output_type": "stream",
     "text": [
      "###################################################################################################################\n",
      "# Classification Performance for Logistic Regression (LR): 0.8844444444444445\n",
      "###################################################################################################################\n"
     ]
    }
   ],
   "source": [
    "Accuracy_Calculator(LogisticRegression(max_iter=3000), \"Logistic Regression (LR)\")"
   ]
  },
  {
   "cell_type": "code",
   "execution_count": 7,
   "id": "6ac60aea",
   "metadata": {
    "execution": {
     "iopub.execute_input": "2023-03-10T07:13:40.492154Z",
     "iopub.status.busy": "2023-03-10T07:13:40.491809Z",
     "iopub.status.idle": "2023-03-10T07:13:40.536334Z",
     "shell.execute_reply": "2023-03-10T07:13:40.534589Z"
    },
    "papermill": {
     "duration": 0.053501,
     "end_time": "2023-03-10T07:13:40.539615",
     "exception": false,
     "start_time": "2023-03-10T07:13:40.486114",
     "status": "completed"
    },
    "tags": []
   },
   "outputs": [
    {
     "name": "stdout",
     "output_type": "stream",
     "text": [
      "###################################################################################################################\n",
      "# Classification Performance for K Nearest Neighbour (KNN): 0.7688888888888888\n",
      "###################################################################################################################\n"
     ]
    }
   ],
   "source": [
    "Accuracy_Calculator(KNeighborsClassifier(n_neighbors=5), \"K Nearest Neighbour (KNN)\")"
   ]
  },
  {
   "cell_type": "code",
   "execution_count": null,
   "id": "7a10491e",
   "metadata": {
    "papermill": {
     "duration": 0.005005,
     "end_time": "2023-03-10T07:13:40.548476",
     "exception": false,
     "start_time": "2023-03-10T07:13:40.543471",
     "status": "completed"
    },
    "tags": []
   },
   "outputs": [],
   "source": []
  }
 ],
 "metadata": {
  "kernelspec": {
   "display_name": "Python 3",
   "language": "python",
   "name": "python3"
  },
  "language_info": {
   "codemirror_mode": {
    "name": "ipython",
    "version": 3
   },
   "file_extension": ".py",
   "mimetype": "text/x-python",
   "name": "python",
   "nbconvert_exporter": "python",
   "pygments_lexer": "ipython3",
   "version": "3.7.12"
  },
  "papermill": {
   "default_parameters": {},
   "duration": 97.078067,
   "end_time": "2023-03-10T07:13:41.791873",
   "environment_variables": {},
   "exception": null,
   "input_path": "__notebook__.ipynb",
   "output_path": "__notebook__.ipynb",
   "parameters": {},
   "start_time": "2023-03-10T07:12:04.713806",
   "version": "2.3.4"
  }
 },
 "nbformat": 4,
 "nbformat_minor": 5
}
