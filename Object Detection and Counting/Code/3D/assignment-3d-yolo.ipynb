{
 "cells": [
  {
   "cell_type": "code",
   "execution_count": 1,
   "id": "1a747a28",
   "metadata": {
    "_cell_guid": "b1076dfc-b9ad-4769-8c92-a6c4dae69d19",
    "_uuid": "8f2839f25d086af736a60e9eeb907d3b93b6e0e5",
    "execution": {
     "iopub.execute_input": "2023-03-21T08:10:38.002521Z",
     "iopub.status.busy": "2023-03-21T08:10:38.001431Z",
     "iopub.status.idle": "2023-03-21T08:10:38.177268Z",
     "shell.execute_reply": "2023-03-21T08:10:38.176262Z"
    },
    "papermill": {
     "duration": 0.183118,
     "end_time": "2023-03-21T08:10:38.179905",
     "exception": false,
     "start_time": "2023-03-21T08:10:37.996787",
     "status": "completed"
    },
    "tags": []
   },
   "outputs": [],
   "source": [
    "import cv2\n",
    "import numpy as np\n",
    "from matplotlib import pyplot as plt"
   ]
  },
  {
   "cell_type": "code",
   "execution_count": 2,
   "id": "1df7839d",
   "metadata": {
    "execution": {
     "iopub.execute_input": "2023-03-21T08:10:38.185634Z",
     "iopub.status.busy": "2023-03-21T08:10:38.185318Z",
     "iopub.status.idle": "2023-03-21T08:10:42.268193Z",
     "shell.execute_reply": "2023-03-21T08:10:42.266953Z"
    },
    "papermill": {
     "duration": 4.088999,
     "end_time": "2023-03-21T08:10:42.271287",
     "exception": false,
     "start_time": "2023-03-21T08:10:38.182288",
     "status": "completed"
    },
    "tags": []
   },
   "outputs": [
    {
     "name": "stdout",
     "output_type": "stream",
     "text": [
      "--2023-03-21 08:10:39--  https://pjreddie.com/media/files/yolov3.weights\r\n",
      "Resolving pjreddie.com (pjreddie.com)... 128.208.4.108\r\n",
      "Connecting to pjreddie.com (pjreddie.com)|128.208.4.108|:443... connected.\r\n",
      "HTTP request sent, awaiting response... 200 OK\r\n",
      "Length: 248007048 (237M) [application/octet-stream]\r\n",
      "Saving to: ‘yolov3.weights’\r\n",
      "\r\n",
      "yolov3.weights      100%[===================>] 236.52M  77.8MB/s    in 3.0s    \r\n",
      "\r\n",
      "2023-03-21 08:10:42 (77.8 MB/s) - ‘yolov3.weights’ saved [248007048/248007048]\r\n",
      "\r\n"
     ]
    }
   ],
   "source": [
    "!wget https://pjreddie.com/media/files/yolov3.weights"
   ]
  },
  {
   "cell_type": "code",
   "execution_count": 3,
   "id": "3ab10239",
   "metadata": {
    "execution": {
     "iopub.execute_input": "2023-03-21T08:10:42.281853Z",
     "iopub.status.busy": "2023-03-21T08:10:42.281474Z",
     "iopub.status.idle": "2023-03-21T08:10:42.307977Z",
     "shell.execute_reply": "2023-03-21T08:10:42.307053Z"
    },
    "papermill": {
     "duration": 0.034949,
     "end_time": "2023-03-21T08:10:42.310775",
     "exception": false,
     "start_time": "2023-03-21T08:10:42.275826",
     "status": "completed"
    },
    "tags": []
   },
   "outputs": [],
   "source": [
    "class Object_Detector:\n",
    "    def __init__(self, image):\n",
    "        self.image = image\n",
    "        self.Width = image.shape[1]\n",
    "        self.Height = image.shape[0]\n",
    "        self.scale = 0.00392\n",
    "        \n",
    "        self.model_setup()\n",
    "        self.run_inference()\n",
    "    \n",
    "    def model_setup(self):\n",
    "\n",
    "        self.classes = None\n",
    "        with open('/kaggle/input/images-and-cfg/yolov3.txt', 'r') as f:\n",
    "            self.classes = [line.strip() for line in f.readlines()]\n",
    "\n",
    "        # read pre-trained model and config file\n",
    "        self.net = cv2.dnn.readNet('/kaggle/working/yolov3.weights', '/kaggle/input/images-and-cfg/yolov3.cfg')\n",
    "\n",
    "        # create input blob \n",
    "        blob = cv2.dnn.blobFromImage(self.image, self.scale, (416,416), (0,0,0), True, crop=False)\n",
    "\n",
    "        # set input blob for the network\n",
    "        self.net.setInput(blob)\n",
    "\n",
    "    # function to get the output layer names \n",
    "    # in the architecture\n",
    "    def get_output_layers(self):\n",
    "\n",
    "        layer_names = self.net.getLayerNames()\n",
    "\n",
    "        output_layers = [layer_names[i - 1] for i in self.net.getUnconnectedOutLayers()]\n",
    "\n",
    "        return output_layers\n",
    "\n",
    "    # function to draw bounding box on the detected object with class name\n",
    "    def draw_bounding_box(self, img, class_id, confidence, x, y, x_plus_w, y_plus_h):\n",
    "\n",
    "        label = str(self.classes[class_id])\n",
    "\n",
    "        cv2.rectangle(img, (x,y), (x_plus_w,y_plus_h), (0, 255, 0), 3)\n",
    "    \n",
    "        cv2.putText(img, label, (x-10,y-10), cv2.FONT_HERSHEY_SIMPLEX, 1, (0, 255, 0), 2)\n",
    "        \n",
    "    def run_inference(self):\n",
    "        # run inference through the network\n",
    "        # and gather predictions from output layers\n",
    "        outs = self.net.forward(self.get_output_layers())\n",
    "\n",
    "        # initialization\n",
    "        self.class_ids = []\n",
    "        self.confidences = []\n",
    "        self.boxes = []\n",
    "        self.conf_threshold = 0.5\n",
    "        self.nms_threshold = 0.4\n",
    "\n",
    "        # for each detetion from each output layer \n",
    "        # get the confidence, class id, bounding box params\n",
    "        # and ignore weak detections (confidence < 0.5)\n",
    "        for out in outs:\n",
    "            for detection in out:\n",
    "                scores = detection[5:]\n",
    "                class_id = np.argmax(scores)\n",
    "                confidence = scores[class_id]\n",
    "                if confidence > 0.5:\n",
    "                    center_x = int(detection[0] * self.Width)\n",
    "                    center_y = int(detection[1] * self.Height)\n",
    "                    w = int(detection[2] * self.Width)\n",
    "                    h = int(detection[3] * self.Height)\n",
    "                    x = center_x - w / 2\n",
    "                    y = center_y - h / 2\n",
    "                    self.class_ids.append(class_id)\n",
    "                    self.confidences.append(float(confidence))\n",
    "                    self.boxes.append([x, y, w, h])\n",
    "                    \n",
    "    def get_output(self):\n",
    "        # apply non-max suppression\n",
    "        indices = cv2.dnn.NMSBoxes(self.boxes, self.confidences, self.conf_threshold, self.nms_threshold)\n",
    "\n",
    "        # go through the detections remaining\n",
    "        for i in indices:\n",
    "            box = self.boxes[i]\n",
    "            x = box[0]\n",
    "            y = box[1]\n",
    "            w = box[2]\n",
    "            h = box[3]\n",
    "\n",
    "            self.draw_bounding_box(self.image, self.class_ids[i], self.confidences[i], round(x), round(y), round(x+w), round(y+h))\n",
    "\n",
    "        return self.image\n"
   ]
  },
  {
   "cell_type": "code",
   "execution_count": 4,
   "id": "67f9b74f",
   "metadata": {
    "execution": {
     "iopub.execute_input": "2023-03-21T08:10:42.322370Z",
     "iopub.status.busy": "2023-03-21T08:10:42.321516Z",
     "iopub.status.idle": "2023-03-21T08:25:13.074378Z",
     "shell.execute_reply": "2023-03-21T08:25:13.073191Z"
    },
    "papermill": {
     "duration": 870.761565,
     "end_time": "2023-03-21T08:25:13.077121",
     "exception": false,
     "start_time": "2023-03-21T08:10:42.315556",
     "status": "completed"
    },
    "tags": []
   },
   "outputs": [],
   "source": [
    "# Opening the video file for reading\n",
    "vidcap = cv2.VideoCapture('/kaggle/input/car-video/video.mp4')\n",
    "\n",
    "# Initializing variables for processing frames\n",
    "success = True\n",
    "count = 0\n",
    "img_array = []\n",
    "\n",
    "# Looping through each frame of the video file\n",
    "while success:\n",
    "    # Reading the next frame from the video file\n",
    "    success,image = vidcap.read()\n",
    "    \n",
    "    # Checking if the frame was successfully read\n",
    "    if(success == 0 or image is None): \n",
    "        break\n",
    "        \n",
    "    # Object detection on the current frame using a custom Object_Detector class\n",
    "    OD = Object_Detector(image)\n",
    "    img_array.append(OD.get_output())\n",
    "    \n",
    "    # Saving frames at specific intervals\n",
    "    if(count == 12 or count == 200 or count == 400):\n",
    "        cv2.imwrite(\"frame%d.jpg\" % count, img_array[-1])     # save frame as JPEG file\n",
    "        \n",
    "    count += 1"
   ]
  },
  {
   "cell_type": "code",
   "execution_count": 5,
   "id": "cdd26f39",
   "metadata": {
    "execution": {
     "iopub.execute_input": "2023-03-21T08:25:13.084865Z",
     "iopub.status.busy": "2023-03-21T08:25:13.084550Z",
     "iopub.status.idle": "2023-03-21T08:25:24.050204Z",
     "shell.execute_reply": "2023-03-21T08:25:24.049172Z"
    },
    "papermill": {
     "duration": 10.972293,
     "end_time": "2023-03-21T08:25:24.052740",
     "exception": false,
     "start_time": "2023-03-21T08:25:13.080447",
     "status": "completed"
    },
    "tags": []
   },
   "outputs": [],
   "source": [
    "# Determining the size of the frames and initializing a VideoWriter object for writing the output video file\n",
    "height, width, layers = img_array[0].shape\n",
    "size = (width,height)\n",
    "out = cv2.VideoWriter('project_YOLO.avi',cv2.VideoWriter_fourcc(*'DIVX'), 15, size)\n",
    " \n",
    "# Writing each frame of the output video file\n",
    "for i in range(len(img_array)):\n",
    "    out.write(img_array[i])\n",
    "    \n",
    "# Releasing the VideoWriter object\n",
    "out.release()"
   ]
  },
  {
   "cell_type": "code",
   "execution_count": null,
   "id": "1091ece5",
   "metadata": {
    "papermill": {
     "duration": 0.002749,
     "end_time": "2023-03-21T08:25:24.059477",
     "exception": false,
     "start_time": "2023-03-21T08:25:24.056728",
     "status": "completed"
    },
    "tags": []
   },
   "outputs": [],
   "source": []
  }
 ],
 "metadata": {
  "kernelspec": {
   "display_name": "Python 3",
   "language": "python",
   "name": "python3"
  },
  "language_info": {
   "codemirror_mode": {
    "name": "ipython",
    "version": 3
   },
   "file_extension": ".py",
   "mimetype": "text/x-python",
   "name": "python",
   "nbconvert_exporter": "python",
   "pygments_lexer": "ipython3",
   "version": "3.7.12"
  },
  "papermill": {
   "default_parameters": {},
   "duration": 896.279108,
   "end_time": "2023-03-21T08:25:24.786848",
   "environment_variables": {},
   "exception": null,
   "input_path": "__notebook__.ipynb",
   "output_path": "__notebook__.ipynb",
   "parameters": {},
   "start_time": "2023-03-21T08:10:28.507740",
   "version": "2.4.0"
  }
 },
 "nbformat": 4,
 "nbformat_minor": 5
}
