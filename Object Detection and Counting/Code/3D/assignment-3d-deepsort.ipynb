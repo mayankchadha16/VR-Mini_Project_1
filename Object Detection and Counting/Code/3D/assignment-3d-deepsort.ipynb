{
 "cells": [
  {
   "cell_type": "code",
   "execution_count": 1,
   "id": "8b7b1a0a",
   "metadata": {
    "execution": {
     "iopub.execute_input": "2023-03-22T08:16:31.946372Z",
     "iopub.status.busy": "2023-03-22T08:16:31.945203Z",
     "iopub.status.idle": "2023-03-22T08:16:42.602320Z",
     "shell.execute_reply": "2023-03-22T08:16:42.601078Z"
    },
    "papermill": {
     "duration": 10.665628,
     "end_time": "2023-03-22T08:16:42.605329",
     "exception": false,
     "start_time": "2023-03-22T08:16:31.939701",
     "status": "completed"
    },
    "tags": []
   },
   "outputs": [
    {
     "name": "stdout",
     "output_type": "stream",
     "text": [
      "Collecting deep-sort-realtime\r\n",
      "  Downloading deep_sort_realtime-1.3.2-py3-none-any.whl (8.4 MB)\r\n",
      "\u001b[2K     \u001b[90m━━━━━━━━━━━━━━━━━━━━━━━━━━━━━━━━━━━━━━━━\u001b[0m \u001b[32m8.4/8.4 MB\u001b[0m \u001b[31m67.2 MB/s\u001b[0m eta \u001b[36m0:00:00\u001b[0m\r\n",
      "\u001b[?25hRequirement already satisfied: numpy in /opt/conda/lib/python3.7/site-packages (from deep-sort-realtime) (1.21.6)\r\n",
      "Requirement already satisfied: opencv-python in /opt/conda/lib/python3.7/site-packages (from deep-sort-realtime) (4.5.4.60)\r\n",
      "Requirement already satisfied: scipy in /opt/conda/lib/python3.7/site-packages (from deep-sort-realtime) (1.7.3)\r\n",
      "Installing collected packages: deep-sort-realtime\r\n",
      "Successfully installed deep-sort-realtime-1.3.2\r\n",
      "\u001b[33mWARNING: Running pip as the 'root' user can result in broken permissions and conflicting behaviour with the system package manager. It is recommended to use a virtual environment instead: https://pip.pypa.io/warnings/venv\u001b[0m\u001b[33m\r\n",
      "\u001b[0m"
     ]
    }
   ],
   "source": [
    "!pip install deep-sort-realtime"
   ]
  },
  {
   "cell_type": "code",
   "execution_count": 2,
   "id": "c2b4e561",
   "metadata": {
    "execution": {
     "iopub.execute_input": "2023-03-22T08:16:42.614114Z",
     "iopub.status.busy": "2023-03-22T08:16:42.613797Z",
     "iopub.status.idle": "2023-03-22T08:16:45.676679Z",
     "shell.execute_reply": "2023-03-22T08:16:45.675591Z"
    },
    "papermill": {
     "duration": 3.070177,
     "end_time": "2023-03-22T08:16:45.679483",
     "exception": false,
     "start_time": "2023-03-22T08:16:42.609306",
     "status": "completed"
    },
    "tags": []
   },
   "outputs": [],
   "source": [
    "import torch\n",
    "import torchvision\n",
    "import cv2\n",
    "import numpy as np\n",
    "from deep_sort_realtime.deepsort_tracker import DeepSort\n",
    "import warnings\n",
    "warnings.filterwarnings('ignore')"
   ]
  },
  {
   "cell_type": "code",
   "execution_count": 3,
   "id": "dd357738",
   "metadata": {
    "execution": {
     "iopub.execute_input": "2023-03-22T08:16:45.688820Z",
     "iopub.status.busy": "2023-03-22T08:16:45.687527Z",
     "iopub.status.idle": "2023-03-22T08:17:08.064168Z",
     "shell.execute_reply": "2023-03-22T08:17:08.062881Z"
    },
    "papermill": {
     "duration": 22.384153,
     "end_time": "2023-03-22T08:17:08.067227",
     "exception": false,
     "start_time": "2023-03-22T08:16:45.683074",
     "status": "completed"
    },
    "tags": []
   },
   "outputs": [
    {
     "name": "stdout",
     "output_type": "stream",
     "text": [
      "\u001b[31mERROR: pip's dependency resolver does not currently take into account all the packages that are installed. This behaviour is the source of the following dependency conflicts.\r\n",
      "dask-cudf 21.12.2 requires cupy-cuda115, which is not installed.\r\n",
      "cudf 21.12.2 requires cupy-cuda115, which is not installed.\r\n",
      "tensorflow 2.11.0 requires protobuf<3.20,>=3.9.2, but you have protobuf 3.20.3 which is incompatible.\r\n",
      "tensorflow-transform 1.12.0 requires pyarrow<7,>=6, but you have pyarrow 5.0.0 which is incompatible.\r\n",
      "tensorflow-serving-api 2.11.0 requires protobuf<3.20,>=3.9.2, but you have protobuf 3.20.3 which is incompatible.\r\n",
      "librosa 0.10.0 requires soundfile>=0.12.1, but you have soundfile 0.11.0 which is incompatible.\r\n",
      "distributed 2021.11.2 requires dask==2021.11.2, but you have dask 2022.2.0 which is incompatible.\r\n",
      "dask-cudf 21.12.2 requires dask<=2021.11.2,>=2021.11.1, but you have dask 2022.2.0 which is incompatible.\r\n",
      "cloud-tpu-client 0.10 requires google-api-python-client==1.8.0, but you have google-api-python-client 2.79.0 which is incompatible.\u001b[0m\u001b[31m\r\n",
      "\u001b[0m\u001b[33mWARNING: Running pip as the 'root' user can result in broken permissions and conflicting behaviour with the system package manager. It is recommended to use a virtual environment instead: https://pip.pypa.io/warnings/venv\u001b[0m\u001b[33m\r\n",
      "\u001b[0m"
     ]
    }
   ],
   "source": [
    "!pip install -qr https://raw.githubusercontent.com/ultralytics/yolov5/master/requirements.txt  # install dependencies"
   ]
  },
  {
   "cell_type": "code",
   "execution_count": 4,
   "id": "e06394c2",
   "metadata": {
    "execution": {
     "iopub.execute_input": "2023-03-22T08:17:08.076059Z",
     "iopub.status.busy": "2023-03-22T08:17:08.075723Z",
     "iopub.status.idle": "2023-03-22T08:17:26.360418Z",
     "shell.execute_reply": "2023-03-22T08:17:26.359414Z"
    },
    "papermill": {
     "duration": 18.2926,
     "end_time": "2023-03-22T08:17:26.363497",
     "exception": false,
     "start_time": "2023-03-22T08:17:08.070897",
     "status": "completed"
    },
    "tags": []
   },
   "outputs": [
    {
     "name": "stderr",
     "output_type": "stream",
     "text": [
      "Downloading: \"https://github.com/ultralytics/yolov5/zipball/master\" to /root/.cache/torch/hub/master.zip\n",
      "\u001b[31m\u001b[1mrequirements:\u001b[0m YOLOv5 requirement \"setuptools>=65.5.1\" not found, attempting AutoUpdate...\n",
      "WARNING: Running pip as the 'root' user can result in broken permissions and conflicting behaviour with the system package manager. It is recommended to use a virtual environment instead: https://pip.pypa.io/warnings/venv\n",
      "Requirement already satisfied: setuptools>=65.5.1 in /opt/conda/lib/python3.7/site-packages (67.6.0)\n",
      "\n",
      "\u001b[31m\u001b[1mrequirements:\u001b[0m 1 package updated per /root/.cache/torch/hub/ultralytics_yolov5_master/requirements.txt\n",
      "\u001b[31m\u001b[1mrequirements:\u001b[0m ⚠️ \u001b[1mRestart runtime or rerun command for updates to take effect\u001b[0m\n",
      "\n",
      "YOLOv5 🚀 2023-3-22 Python-3.7.12 torch-1.13.0 CUDA:0 (Tesla P100-PCIE-16GB, 16281MiB)\n",
      "\n",
      "Downloading https://github.com/ultralytics/yolov5/releases/download/v7.0/yolov5s.pt to yolov5s.pt...\n"
     ]
    },
    {
     "data": {
      "application/vnd.jupyter.widget-view+json": {
       "model_id": "3d4bc4b5df2e4389bbf4630b7fd8b418",
       "version_major": 2,
       "version_minor": 0
      },
      "text/plain": [
       "  0%|          | 0.00/14.1M [00:00<?, ?B/s]"
      ]
     },
     "metadata": {},
     "output_type": "display_data"
    },
    {
     "name": "stderr",
     "output_type": "stream",
     "text": [
      "\n",
      "Fusing layers... \n",
      "YOLOv5s summary: 213 layers, 7225885 parameters, 0 gradients\n",
      "Adding AutoShape... \n"
     ]
    }
   ],
   "source": [
    "# Load YOLOv5 model\n",
    "model = torch.hub.load('ultralytics/yolov5', 'yolov5s', pretrained=True)"
   ]
  },
  {
   "cell_type": "code",
   "execution_count": 5,
   "id": "df0f8610",
   "metadata": {
    "execution": {
     "iopub.execute_input": "2023-03-22T08:17:26.377939Z",
     "iopub.status.busy": "2023-03-22T08:17:26.377484Z",
     "iopub.status.idle": "2023-03-22T08:17:26.593236Z",
     "shell.execute_reply": "2023-03-22T08:17:26.592208Z"
    },
    "papermill": {
     "duration": 0.226124,
     "end_time": "2023-03-22T08:17:26.596448",
     "exception": false,
     "start_time": "2023-03-22T08:17:26.370324",
     "status": "completed"
    },
    "tags": []
   },
   "outputs": [],
   "source": [
    "object_tracker = DeepSort()"
   ]
  },
  {
   "cell_type": "code",
   "execution_count": 6,
   "id": "44a4af02",
   "metadata": {
    "execution": {
     "iopub.execute_input": "2023-03-22T08:17:26.611978Z",
     "iopub.status.busy": "2023-03-22T08:17:26.610752Z",
     "iopub.status.idle": "2023-03-22T08:17:26.628989Z",
     "shell.execute_reply": "2023-03-22T08:17:26.628037Z"
    },
    "papermill": {
     "duration": 0.02753,
     "end_time": "2023-03-22T08:17:26.631066",
     "exception": false,
     "start_time": "2023-03-22T08:17:26.603536",
     "status": "completed"
    },
    "tags": []
   },
   "outputs": [],
   "source": [
    "class Car_Tracker:\n",
    "    \n",
    "    def __init__(self):\n",
    "        pass\n",
    "    \n",
    "    def detect_cars(self, image, model, threshold=0.5):\n",
    "        # Use a pre-trained model to predict object bounding boxes and class probabilities in the input image\n",
    "        predictions = model(image)\n",
    "        \n",
    "        # Select only the predicted bounding boxes and class probabilities for cars\n",
    "        car_predictions = predictions.pred[0][predictions.pred[0][:, 5] == 2]\n",
    "        \n",
    "        # Filter out low-confidence detections\n",
    "        detections = [(box.cpu().numpy(), confidence.cpu().numpy()) for box, confidence in zip(car_predictions[:, :4], car_predictions[:, 4]) if confidence > threshold]\n",
    "        \n",
    "        # Draw bounding boxes around detected cars\n",
    "        for box, _ in detections:\n",
    "            cv2.rectangle(image, (int(box[0]), int(box[1])), (int(box[2]), int(box[3])), (0, 255, 0), 3)\n",
    "            cv2.putText(image, \"car\", (int(box[0])-10, int(box[1])-10), cv2.FONT_HERSHEY_SIMPLEX, 1, (0, 255, 0), 2)\n",
    "\n",
    "        return detections\n",
    "    \n",
    "    def update_tracks(self, tracks, count, track_ids):\n",
    "        # Loop over all tracks\n",
    "        for track in tracks:\n",
    "            # If track is not yet confirmed, skip to the next one\n",
    "            if not track.is_confirmed():\n",
    "                continue\n",
    "\n",
    "            # Get the ID of the track\n",
    "            track_id = track.track_id\n",
    "\n",
    "            # If the track ID is not already in the list of track IDs, \n",
    "            # increment the count and add the track ID to the list\n",
    "            if track_id not in track_ids:\n",
    "                count += 1\n",
    "                track_ids.append(track_id)\n",
    "\n",
    "            # Convert the track's bounding box to a ltrb format\n",
    "            bbox = track.to_ltrb()\n",
    "\n",
    "        # Return the updated list of track IDs and the count\n",
    "        return track_ids, count\n"
   ]
  },
  {
   "cell_type": "code",
   "execution_count": 7,
   "id": "549203db",
   "metadata": {
    "execution": {
     "iopub.execute_input": "2023-03-22T08:17:26.642066Z",
     "iopub.status.busy": "2023-03-22T08:17:26.640341Z",
     "iopub.status.idle": "2023-03-22T08:17:26.646089Z",
     "shell.execute_reply": "2023-03-22T08:17:26.645206Z"
    },
    "papermill": {
     "duration": 0.012874,
     "end_time": "2023-03-22T08:17:26.648248",
     "exception": false,
     "start_time": "2023-03-22T08:17:26.635374",
     "status": "completed"
    },
    "tags": []
   },
   "outputs": [],
   "source": [
    "CT = Car_Tracker()"
   ]
  },
  {
   "cell_type": "code",
   "execution_count": 8,
   "id": "8d700715",
   "metadata": {
    "execution": {
     "iopub.execute_input": "2023-03-22T08:17:26.657402Z",
     "iopub.status.busy": "2023-03-22T08:17:26.657050Z",
     "iopub.status.idle": "2023-03-22T08:17:26.813764Z",
     "shell.execute_reply": "2023-03-22T08:17:26.812649Z"
    },
    "papermill": {
     "duration": 0.164206,
     "end_time": "2023-03-22T08:17:26.816431",
     "exception": false,
     "start_time": "2023-03-22T08:17:26.652225",
     "status": "completed"
    },
    "tags": []
   },
   "outputs": [],
   "source": [
    "# Opening the video file for reading\n",
    "vidcap = cv2.VideoCapture('/kaggle/input/car-video/video1.mp4')\n",
    "\n",
    "# Initializing variables for processing frames\n",
    "success = True\n",
    "count2 = 0\n",
    "img_array = []\n",
    "track_ids = []\n",
    "count = 0 "
   ]
  },
  {
   "cell_type": "code",
   "execution_count": 9,
   "id": "a9cd41ae",
   "metadata": {
    "execution": {
     "iopub.execute_input": "2023-03-22T08:17:26.827618Z",
     "iopub.status.busy": "2023-03-22T08:17:26.826607Z",
     "iopub.status.idle": "2023-03-22T08:18:13.097784Z",
     "shell.execute_reply": "2023-03-22T08:18:13.096714Z"
    },
    "papermill": {
     "duration": 46.279206,
     "end_time": "2023-03-22T08:18:13.100536",
     "exception": false,
     "start_time": "2023-03-22T08:17:26.821330",
     "status": "completed"
    },
    "tags": []
   },
   "outputs": [],
   "source": [
    "# Looping through each frame of the video file\n",
    "while success:\n",
    "    # Reading the next frame from the video file\n",
    "    success,image = vidcap.read()\n",
    "    \n",
    "    # Checking if the frame was successfully read\n",
    "    if(success == 0 or image is None): \n",
    "        break\n",
    "\n",
    "    # Detect cars in the current frame using a pre-trained model\n",
    "    detections = CT.detect_cars(image, model, 0.5)\n",
    "    \n",
    "    # Update the tracks of the detected cars using an object tracker\n",
    "    tracks = object_tracker.update_tracks(detections, frame=image)\n",
    "    \n",
    "    # Update the count of cars detected and their track IDs\n",
    "    track_ids, count = CT.update_tracks(tracks, count, track_ids)\n",
    "    \n",
    "    # Add the count of detected cars as text to the current frame\n",
    "    cv2.putText(image, f'Number of Cars: {int(count)}', (20, 100), cv2.FONT_HERSHEY_SIMPLEX, 3, (255,255,255), 3)\n",
    "    \n",
    "    # Add the current frame to an array of frames\n",
    "    img_array.append(image)\n",
    "    \n",
    "    # If the current frame is one of the specified frames, save it as a JPEG file\n",
    "    if(count2 == 12 or count2 == 490 or count2 == 200 or count2 == 400):\n",
    "        cv2.imwrite(\"frame%d.jpg\" % count2, img_array[-1])     # save frame as JPEG file\n",
    "        \n",
    "    # Increment the frame counter\n",
    "    count2 += 1"
   ]
  },
  {
   "cell_type": "code",
   "execution_count": 10,
   "id": "5d663a19",
   "metadata": {
    "execution": {
     "iopub.execute_input": "2023-03-22T08:18:13.111560Z",
     "iopub.status.busy": "2023-03-22T08:18:13.110580Z",
     "iopub.status.idle": "2023-03-22T08:18:29.888648Z",
     "shell.execute_reply": "2023-03-22T08:18:29.887545Z"
    },
    "papermill": {
     "duration": 16.786324,
     "end_time": "2023-03-22T08:18:29.891554",
     "exception": false,
     "start_time": "2023-03-22T08:18:13.105230",
     "status": "completed"
    },
    "tags": []
   },
   "outputs": [],
   "source": [
    "# Determining the size of the frames and initializing a VideoWriter object for writing the output video file\n",
    "height, width, layers = img_array[0].shape\n",
    "size = (width,height)\n",
    "out = cv2.VideoWriter('project_YOLO.avi',cv2.VideoWriter_fourcc(*'DIVX'), 15, size)\n",
    " \n",
    "# Writing each frame of the output video file\n",
    "for i in range(len(img_array)):\n",
    "    out.write(img_array[i])\n",
    "    \n",
    "# Releasing the VideoWriter object\n",
    "out.release()"
   ]
  },
  {
   "cell_type": "code",
   "execution_count": null,
   "id": "074e9b6c",
   "metadata": {
    "papermill": {
     "duration": 0.003848,
     "end_time": "2023-03-22T08:18:29.899871",
     "exception": false,
     "start_time": "2023-03-22T08:18:29.896023",
     "status": "completed"
    },
    "tags": []
   },
   "outputs": [],
   "source": []
  }
 ],
 "metadata": {
  "kernelspec": {
   "display_name": "Python 3",
   "language": "python",
   "name": "python3"
  },
  "language_info": {
   "codemirror_mode": {
    "name": "ipython",
    "version": 3
   },
   "file_extension": ".py",
   "mimetype": "text/x-python",
   "name": "python",
   "nbconvert_exporter": "python",
   "pygments_lexer": "ipython3",
   "version": "3.7.12"
  },
  "papermill": {
   "default_parameters": {},
   "duration": 130.189983,
   "end_time": "2023-03-22T08:18:32.397189",
   "environment_variables": {},
   "exception": null,
   "input_path": "__notebook__.ipynb",
   "output_path": "__notebook__.ipynb",
   "parameters": {},
   "start_time": "2023-03-22T08:16:22.207206",
   "version": "2.4.0"
  },
  "widgets": {
   "application/vnd.jupyter.widget-state+json": {
    "state": {
     "04057e3279fc4dd58f4095014d5f3994": {
      "model_module": "@jupyter-widgets/base",
      "model_module_version": "1.2.0",
      "model_name": "LayoutModel",
      "state": {
       "_model_module": "@jupyter-widgets/base",
       "_model_module_version": "1.2.0",
       "_model_name": "LayoutModel",
       "_view_count": null,
       "_view_module": "@jupyter-widgets/base",
       "_view_module_version": "1.2.0",
       "_view_name": "LayoutView",
       "align_content": null,
       "align_items": null,
       "align_self": null,
       "border": null,
       "bottom": null,
       "display": null,
       "flex": null,
       "flex_flow": null,
       "grid_area": null,
       "grid_auto_columns": null,
       "grid_auto_flow": null,
       "grid_auto_rows": null,
       "grid_column": null,
       "grid_gap": null,
       "grid_row": null,
       "grid_template_areas": null,
       "grid_template_columns": null,
       "grid_template_rows": null,
       "height": null,
       "justify_content": null,
       "justify_items": null,
       "left": null,
       "margin": null,
       "max_height": null,
       "max_width": null,
       "min_height": null,
       "min_width": null,
       "object_fit": null,
       "object_position": null,
       "order": null,
       "overflow": null,
       "overflow_x": null,
       "overflow_y": null,
       "padding": null,
       "right": null,
       "top": null,
       "visibility": null,
       "width": null
      }
     },
     "3354177208cc442485a9ef254744953a": {
      "model_module": "@jupyter-widgets/controls",
      "model_module_version": "1.5.0",
      "model_name": "DescriptionStyleModel",
      "state": {
       "_model_module": "@jupyter-widgets/controls",
       "_model_module_version": "1.5.0",
       "_model_name": "DescriptionStyleModel",
       "_view_count": null,
       "_view_module": "@jupyter-widgets/base",
       "_view_module_version": "1.2.0",
       "_view_name": "StyleView",
       "description_width": ""
      }
     },
     "3d4bc4b5df2e4389bbf4630b7fd8b418": {
      "model_module": "@jupyter-widgets/controls",
      "model_module_version": "1.5.0",
      "model_name": "HBoxModel",
      "state": {
       "_dom_classes": [],
       "_model_module": "@jupyter-widgets/controls",
       "_model_module_version": "1.5.0",
       "_model_name": "HBoxModel",
       "_view_count": null,
       "_view_module": "@jupyter-widgets/controls",
       "_view_module_version": "1.5.0",
       "_view_name": "HBoxView",
       "box_style": "",
       "children": [
        "IPY_MODEL_bc3efec6f02d48d48d20e8047c10565a",
        "IPY_MODEL_fe8ef855f68b4e628b51ba4ff67847a9",
        "IPY_MODEL_cf9c348fb5674236a8e9dfeaec072a05"
       ],
       "layout": "IPY_MODEL_04057e3279fc4dd58f4095014d5f3994"
      }
     },
     "4639979ea8d74d0a88d730790a807074": {
      "model_module": "@jupyter-widgets/base",
      "model_module_version": "1.2.0",
      "model_name": "LayoutModel",
      "state": {
       "_model_module": "@jupyter-widgets/base",
       "_model_module_version": "1.2.0",
       "_model_name": "LayoutModel",
       "_view_count": null,
       "_view_module": "@jupyter-widgets/base",
       "_view_module_version": "1.2.0",
       "_view_name": "LayoutView",
       "align_content": null,
       "align_items": null,
       "align_self": null,
       "border": null,
       "bottom": null,
       "display": null,
       "flex": null,
       "flex_flow": null,
       "grid_area": null,
       "grid_auto_columns": null,
       "grid_auto_flow": null,
       "grid_auto_rows": null,
       "grid_column": null,
       "grid_gap": null,
       "grid_row": null,
       "grid_template_areas": null,
       "grid_template_columns": null,
       "grid_template_rows": null,
       "height": null,
       "justify_content": null,
       "justify_items": null,
       "left": null,
       "margin": null,
       "max_height": null,
       "max_width": null,
       "min_height": null,
       "min_width": null,
       "object_fit": null,
       "object_position": null,
       "order": null,
       "overflow": null,
       "overflow_x": null,
       "overflow_y": null,
       "padding": null,
       "right": null,
       "top": null,
       "visibility": null,
       "width": null
      }
     },
     "70304b57dc2045069906c617a6221dda": {
      "model_module": "@jupyter-widgets/base",
      "model_module_version": "1.2.0",
      "model_name": "LayoutModel",
      "state": {
       "_model_module": "@jupyter-widgets/base",
       "_model_module_version": "1.2.0",
       "_model_name": "LayoutModel",
       "_view_count": null,
       "_view_module": "@jupyter-widgets/base",
       "_view_module_version": "1.2.0",
       "_view_name": "LayoutView",
       "align_content": null,
       "align_items": null,
       "align_self": null,
       "border": null,
       "bottom": null,
       "display": null,
       "flex": null,
       "flex_flow": null,
       "grid_area": null,
       "grid_auto_columns": null,
       "grid_auto_flow": null,
       "grid_auto_rows": null,
       "grid_column": null,
       "grid_gap": null,
       "grid_row": null,
       "grid_template_areas": null,
       "grid_template_columns": null,
       "grid_template_rows": null,
       "height": null,
       "justify_content": null,
       "justify_items": null,
       "left": null,
       "margin": null,
       "max_height": null,
       "max_width": null,
       "min_height": null,
       "min_width": null,
       "object_fit": null,
       "object_position": null,
       "order": null,
       "overflow": null,
       "overflow_x": null,
       "overflow_y": null,
       "padding": null,
       "right": null,
       "top": null,
       "visibility": null,
       "width": null
      }
     },
     "a90b8ec0005f4bc59075a764e9334a01": {
      "model_module": "@jupyter-widgets/controls",
      "model_module_version": "1.5.0",
      "model_name": "ProgressStyleModel",
      "state": {
       "_model_module": "@jupyter-widgets/controls",
       "_model_module_version": "1.5.0",
       "_model_name": "ProgressStyleModel",
       "_view_count": null,
       "_view_module": "@jupyter-widgets/base",
       "_view_module_version": "1.2.0",
       "_view_name": "StyleView",
       "bar_color": null,
       "description_width": ""
      }
     },
     "bc3efec6f02d48d48d20e8047c10565a": {
      "model_module": "@jupyter-widgets/controls",
      "model_module_version": "1.5.0",
      "model_name": "HTMLModel",
      "state": {
       "_dom_classes": [],
       "_model_module": "@jupyter-widgets/controls",
       "_model_module_version": "1.5.0",
       "_model_name": "HTMLModel",
       "_view_count": null,
       "_view_module": "@jupyter-widgets/controls",
       "_view_module_version": "1.5.0",
       "_view_name": "HTMLView",
       "description": "",
       "description_tooltip": null,
       "layout": "IPY_MODEL_70304b57dc2045069906c617a6221dda",
       "placeholder": "​",
       "style": "IPY_MODEL_bf4ace4d7aa1465cb9f90c51576adbde",
       "value": "100%"
      }
     },
     "bf4ace4d7aa1465cb9f90c51576adbde": {
      "model_module": "@jupyter-widgets/controls",
      "model_module_version": "1.5.0",
      "model_name": "DescriptionStyleModel",
      "state": {
       "_model_module": "@jupyter-widgets/controls",
       "_model_module_version": "1.5.0",
       "_model_name": "DescriptionStyleModel",
       "_view_count": null,
       "_view_module": "@jupyter-widgets/base",
       "_view_module_version": "1.2.0",
       "_view_name": "StyleView",
       "description_width": ""
      }
     },
     "cf9c348fb5674236a8e9dfeaec072a05": {
      "model_module": "@jupyter-widgets/controls",
      "model_module_version": "1.5.0",
      "model_name": "HTMLModel",
      "state": {
       "_dom_classes": [],
       "_model_module": "@jupyter-widgets/controls",
       "_model_module_version": "1.5.0",
       "_model_name": "HTMLModel",
       "_view_count": null,
       "_view_module": "@jupyter-widgets/controls",
       "_view_module_version": "1.5.0",
       "_view_name": "HTMLView",
       "description": "",
       "description_tooltip": null,
       "layout": "IPY_MODEL_4639979ea8d74d0a88d730790a807074",
       "placeholder": "​",
       "style": "IPY_MODEL_3354177208cc442485a9ef254744953a",
       "value": " 14.1M/14.1M [00:00&lt;00:00, 153MB/s]"
      }
     },
     "e175c51bdaa94604a3f15aa62da87b21": {
      "model_module": "@jupyter-widgets/base",
      "model_module_version": "1.2.0",
      "model_name": "LayoutModel",
      "state": {
       "_model_module": "@jupyter-widgets/base",
       "_model_module_version": "1.2.0",
       "_model_name": "LayoutModel",
       "_view_count": null,
       "_view_module": "@jupyter-widgets/base",
       "_view_module_version": "1.2.0",
       "_view_name": "LayoutView",
       "align_content": null,
       "align_items": null,
       "align_self": null,
       "border": null,
       "bottom": null,
       "display": null,
       "flex": null,
       "flex_flow": null,
       "grid_area": null,
       "grid_auto_columns": null,
       "grid_auto_flow": null,
       "grid_auto_rows": null,
       "grid_column": null,
       "grid_gap": null,
       "grid_row": null,
       "grid_template_areas": null,
       "grid_template_columns": null,
       "grid_template_rows": null,
       "height": null,
       "justify_content": null,
       "justify_items": null,
       "left": null,
       "margin": null,
       "max_height": null,
       "max_width": null,
       "min_height": null,
       "min_width": null,
       "object_fit": null,
       "object_position": null,
       "order": null,
       "overflow": null,
       "overflow_x": null,
       "overflow_y": null,
       "padding": null,
       "right": null,
       "top": null,
       "visibility": null,
       "width": null
      }
     },
     "fe8ef855f68b4e628b51ba4ff67847a9": {
      "model_module": "@jupyter-widgets/controls",
      "model_module_version": "1.5.0",
      "model_name": "FloatProgressModel",
      "state": {
       "_dom_classes": [],
       "_model_module": "@jupyter-widgets/controls",
       "_model_module_version": "1.5.0",
       "_model_name": "FloatProgressModel",
       "_view_count": null,
       "_view_module": "@jupyter-widgets/controls",
       "_view_module_version": "1.5.0",
       "_view_name": "ProgressView",
       "bar_style": "success",
       "description": "",
       "description_tooltip": null,
       "layout": "IPY_MODEL_e175c51bdaa94604a3f15aa62da87b21",
       "max": 14808437.0,
       "min": 0.0,
       "orientation": "horizontal",
       "style": "IPY_MODEL_a90b8ec0005f4bc59075a764e9334a01",
       "value": 14808437.0
      }
     }
    },
    "version_major": 2,
    "version_minor": 0
   }
  }
 },
 "nbformat": 4,
 "nbformat_minor": 5
}
