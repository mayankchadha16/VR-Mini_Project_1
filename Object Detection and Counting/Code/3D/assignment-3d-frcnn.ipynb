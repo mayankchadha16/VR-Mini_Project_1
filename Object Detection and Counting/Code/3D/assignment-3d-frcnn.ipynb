{
 "cells": [
  {
   "cell_type": "raw",
   "id": "151be409",
   "metadata": {
    "papermill": {
     "duration": 0.003058,
     "end_time": "2023-03-21T08:11:06.775345",
     "exception": false,
     "start_time": "2023-03-21T08:11:06.772287",
     "status": "completed"
    },
    "tags": []
   },
   "source": []
  },
  {
   "cell_type": "code",
   "execution_count": 1,
   "id": "2c221e3b",
   "metadata": {
    "_cell_guid": "b1076dfc-b9ad-4769-8c92-a6c4dae69d19",
    "_uuid": "8f2839f25d086af736a60e9eeb907d3b93b6e0e5",
    "execution": {
     "iopub.execute_input": "2023-03-21T08:11:06.781426Z",
     "iopub.status.busy": "2023-03-21T08:11:06.780996Z",
     "iopub.status.idle": "2023-03-21T08:11:09.645354Z",
     "shell.execute_reply": "2023-03-21T08:11:09.644337Z"
    },
    "papermill": {
     "duration": 2.870312,
     "end_time": "2023-03-21T08:11:09.647986",
     "exception": false,
     "start_time": "2023-03-21T08:11:06.777674",
     "status": "completed"
    },
    "tags": []
   },
   "outputs": [],
   "source": [
    "# import necessary libraries\n",
    "import matplotlib.pyplot as plt \n",
    "import torch\n",
    "import torchvision.transforms as T\n",
    "import torchvision\n",
    "import numpy as np \n",
    "import cv2\n",
    "import warnings\n",
    "warnings.filterwarnings('ignore')"
   ]
  },
  {
   "cell_type": "code",
   "execution_count": 2,
   "id": "70c0392e",
   "metadata": {
    "execution": {
     "iopub.execute_input": "2023-03-21T08:11:09.653885Z",
     "iopub.status.busy": "2023-03-21T08:11:09.653440Z",
     "iopub.status.idle": "2023-03-21T08:11:12.826899Z",
     "shell.execute_reply": "2023-03-21T08:11:12.825870Z"
    },
    "papermill": {
     "duration": 3.179084,
     "end_time": "2023-03-21T08:11:12.829398",
     "exception": false,
     "start_time": "2023-03-21T08:11:09.650314",
     "status": "completed"
    },
    "tags": []
   },
   "outputs": [
    {
     "name": "stderr",
     "output_type": "stream",
     "text": [
      "Downloading: \"https://download.pytorch.org/models/fasterrcnn_resnet50_fpn_coco-258fb6c6.pth\" to /root/.cache/torch/hub/checkpoints/fasterrcnn_resnet50_fpn_coco-258fb6c6.pth\n"
     ]
    },
    {
     "data": {
      "application/vnd.jupyter.widget-view+json": {
       "model_id": "f46512c746ec4b759231c7094ef2b812",
       "version_major": 2,
       "version_minor": 0
      },
      "text/plain": [
       "  0%|          | 0.00/160M [00:00<?, ?B/s]"
      ]
     },
     "metadata": {},
     "output_type": "display_data"
    }
   ],
   "source": [
    "# load model\n",
    "model = torchvision.models.detection.fasterrcnn_resnet50_fpn(pretrained=True)\n",
    "# set to evaluation mode\n",
    "model.eval()\n",
    "\n",
    "\n",
    "# load the COCO dataset category names\n",
    "# we will use the same list for this notebook\n",
    "COCO_INSTANCE_CATEGORY_NAMES = [\n",
    "    '__background__', 'person', 'bicycle', 'car', 'motorcycle', 'airplane', 'bus',\n",
    "    'train', 'truck', 'boat', 'traffic light', 'fire hydrant', 'N/A', 'stop sign',\n",
    "    'parking meter', 'bench', 'bird', 'cat', 'dog', 'horse', 'sheep', 'cow',\n",
    "    'elephant', 'bear', 'zebra', 'giraffe', 'N/A', 'backpack', 'umbrella', 'N/A', 'N/A',\n",
    "    'handbag', 'tie', 'suitcase', 'frisbee', 'skis', 'snowboard', 'sports ball',\n",
    "    'kite', 'baseball bat', 'baseball glove', 'skateboard', 'surfboard', 'tennis racket',\n",
    "    'bottle', 'N/A', 'wine glass', 'cup', 'fork', 'knife', 'spoon', 'bowl',\n",
    "    'banana', 'apple', 'sandwich', 'orange', 'broccoli', 'carrot', 'hot dog', 'pizza',\n",
    "    'donut', 'cake', 'chair', 'couch', 'potted plant', 'bed', 'N/A', 'dining table',\n",
    "    'N/A', 'N/A', 'toilet', 'N/A', 'tv', 'laptop', 'mouse', 'remote', 'keyboard', 'cell phone',\n",
    "    'microwave', 'oven', 'toaster', 'sink', 'refrigerator', 'N/A', 'book',\n",
    "    'clock', 'vase', 'scissors', 'teddy bear', 'hair drier', 'toothbrush'\n",
    "]"
   ]
  },
  {
   "cell_type": "code",
   "execution_count": 3,
   "id": "0ca6b4ae",
   "metadata": {
    "execution": {
     "iopub.execute_input": "2023-03-21T08:11:12.835789Z",
     "iopub.status.busy": "2023-03-21T08:11:12.835470Z",
     "iopub.status.idle": "2023-03-21T08:11:12.846877Z",
     "shell.execute_reply": "2023-03-21T08:11:12.845850Z"
    },
    "papermill": {
     "duration": 0.016996,
     "end_time": "2023-03-21T08:11:12.849042",
     "exception": false,
     "start_time": "2023-03-21T08:11:12.832046",
     "status": "completed"
    },
    "tags": []
   },
   "outputs": [],
   "source": [
    "class Object_Detector:\n",
    "    def __init__(self):\n",
    "        pass\n",
    "    \n",
    "    def get_prediction(self, img, confidence):\n",
    "      # Define a transform to convert the input image to a tensor.\n",
    "      transform = T.Compose([T.ToTensor()])\n",
    "      img = transform(img)\n",
    "      \n",
    "      # Use the pre-trained object detection model to get predictions for the image.\n",
    "      pred = model([img])\n",
    "      \n",
    "      # Get the labels, bounding boxes, and scores for the detected objects.\n",
    "      pred_class = [COCO_INSTANCE_CATEGORY_NAMES[i] for i in list(pred[0]['labels'].numpy())]\n",
    "      pred_boxes = [[(i[0], i[1]), (i[2], i[3])] for i in list(pred[0]['boxes'].detach().numpy())]\n",
    "      pred_score = list(pred[0]['scores'].detach().numpy())\n",
    "      \n",
    "      # Only keep predictions with confidence scores greater than the specified threshold.\n",
    "      pred_t = [pred_score.index(x) for x in pred_score if x>confidence][-1]\n",
    "      pred_boxes = pred_boxes[:pred_t+1]\n",
    "      pred_class = pred_class[:pred_t+1]\n",
    "      \n",
    "      return pred_boxes, pred_class\n",
    "\n",
    "    def detect_object(self, img, confidence=0.5):\n",
    "      # Get the predicted bounding boxes and class labels for the detected objects in the image.\n",
    "      boxes, pred_cls = self.get_prediction(img, confidence)\n",
    "\n",
    "      # Draw a bounding box and label for each detected object in the image.\n",
    "      for i in range(len(boxes)):\n",
    "        # Draw a rectangle around the object.\n",
    "        cv2.rectangle(img, (int(boxes[i][0][0]), int(boxes[i][0][1])), (int(boxes[i][1][0]), int(boxes[i][1][1])),color=(0, 255, 0), thickness=3)\n",
    "        # Add a label to the object.\n",
    "        cv2.putText(img,pred_cls[i], (int(boxes[i][0][0]), int(boxes[i][0][1])), cv2.FONT_HERSHEY_SIMPLEX, 1, (0,255,0),thickness=2)\n",
    "\n",
    "      # Return the image with the bounding boxes and labels added.\n",
    "      return img\n",
    "    "
   ]
  },
  {
   "cell_type": "code",
   "execution_count": 4,
   "id": "0263fc30",
   "metadata": {
    "execution": {
     "iopub.execute_input": "2023-03-21T08:11:12.854761Z",
     "iopub.status.busy": "2023-03-21T08:11:12.854471Z",
     "iopub.status.idle": "2023-03-21T08:39:11.402643Z",
     "shell.execute_reply": "2023-03-21T08:39:11.401358Z"
    },
    "papermill": {
     "duration": 1678.553968,
     "end_time": "2023-03-21T08:39:11.405291",
     "exception": false,
     "start_time": "2023-03-21T08:11:12.851323",
     "status": "completed"
    },
    "tags": []
   },
   "outputs": [],
   "source": [
    "# Create a VideoCapture object and read the input video.\n",
    "vidcap = cv2.VideoCapture('/kaggle/input/car-video/video.mp4')\n",
    "\n",
    "# Initialize variables for the loop.\n",
    "success = True\n",
    "count = 0\n",
    "img_array = []\n",
    "\n",
    "# Loop over each frame in the video.\n",
    "while success:\n",
    "    # Read the next frame from the video.\n",
    "    success,image = vidcap.read()\n",
    "    \n",
    "    # Check if the frame was successfully read.\n",
    "    if(success == 0 or image is None): \n",
    "        break\n",
    "        \n",
    "    # Create an instance of the Object_Detector class.\n",
    "    OD = Object_Detector()\n",
    "    \n",
    "    # Detect objects in the frame and add the frame to the img_array list.\n",
    "    img_array.append(OD.detect_object(image, confidence=0.7))\n",
    "    \n",
    "    # Save certain frames as JPEG files.\n",
    "    if(count == 12 or count == 200 or count == 400):\n",
    "        cv2.imwrite(\"frame%d.jpg\" % count, img_array[-1])     # save frame as JPEG file\n",
    "        \n",
    "    # Stop the loop after a certain number of frames.\n",
    "    if(count == 300): # Edge Case\n",
    "        break\n",
    "        \n",
    "    # Increment the frame count.\n",
    "    count += 1\n"
   ]
  },
  {
   "cell_type": "code",
   "execution_count": 5,
   "id": "2a920997",
   "metadata": {
    "execution": {
     "iopub.execute_input": "2023-03-21T08:39:11.412705Z",
     "iopub.status.busy": "2023-03-21T08:39:11.412356Z",
     "iopub.status.idle": "2023-03-21T08:39:18.094041Z",
     "shell.execute_reply": "2023-03-21T08:39:18.092990Z"
    },
    "papermill": {
     "duration": 6.68824,
     "end_time": "2023-03-21T08:39:18.096517",
     "exception": false,
     "start_time": "2023-03-21T08:39:11.408277",
     "status": "completed"
    },
    "tags": []
   },
   "outputs": [],
   "source": [
    "# Determining the size of the frames and initializing a VideoWriter object for writing the output video file\n",
    "height, width, layers = img_array[0].shape\n",
    "size = (width,height)\n",
    "out = cv2.VideoWriter('project_YOLO.avi',cv2.VideoWriter_fourcc(*'DIVX'), 15, size)\n",
    " \n",
    "# Writing each frame of the output video file\n",
    "for i in range(len(img_array)):\n",
    "    out.write(img_array[i])\n",
    "    \n",
    "# Releasing the VideoWriter object\n",
    "out.release()"
   ]
  },
  {
   "cell_type": "code",
   "execution_count": null,
   "id": "05b861c9",
   "metadata": {
    "papermill": {
     "duration": 0.002117,
     "end_time": "2023-03-21T08:39:18.101237",
     "exception": false,
     "start_time": "2023-03-21T08:39:18.099120",
     "status": "completed"
    },
    "tags": []
   },
   "outputs": [],
   "source": []
  }
 ],
 "metadata": {
  "kernelspec": {
   "display_name": "Python 3",
   "language": "python",
   "name": "python3"
  },
  "language_info": {
   "codemirror_mode": {
    "name": "ipython",
    "version": 3
   },
   "file_extension": ".py",
   "mimetype": "text/x-python",
   "name": "python",
   "nbconvert_exporter": "python",
   "pygments_lexer": "ipython3",
   "version": "3.7.12"
  },
  "papermill": {
   "default_parameters": {},
   "duration": 1702.523315,
   "end_time": "2023-03-21T08:39:19.329428",
   "environment_variables": {},
   "exception": null,
   "input_path": "__notebook__.ipynb",
   "output_path": "__notebook__.ipynb",
   "parameters": {},
   "start_time": "2023-03-21T08:10:56.806113",
   "version": "2.4.0"
  },
  "widgets": {
   "application/vnd.jupyter.widget-state+json": {
    "state": {
     "0e911998370a4282b388a73bd915bb94": {
      "model_module": "@jupyter-widgets/controls",
      "model_module_version": "1.5.0",
      "model_name": "HTMLModel",
      "state": {
       "_dom_classes": [],
       "_model_module": "@jupyter-widgets/controls",
       "_model_module_version": "1.5.0",
       "_model_name": "HTMLModel",
       "_view_count": null,
       "_view_module": "@jupyter-widgets/controls",
       "_view_module_version": "1.5.0",
       "_view_name": "HTMLView",
       "description": "",
       "description_tooltip": null,
       "layout": "IPY_MODEL_b41fd030e440411a96882f2653bfbae7",
       "placeholder": "​",
       "style": "IPY_MODEL_61a60f7c3d0e492f91c331f9a422d3dd",
       "value": "100%"
      }
     },
     "403c37906b4842c1a62611405349365b": {
      "model_module": "@jupyter-widgets/controls",
      "model_module_version": "1.5.0",
      "model_name": "DescriptionStyleModel",
      "state": {
       "_model_module": "@jupyter-widgets/controls",
       "_model_module_version": "1.5.0",
       "_model_name": "DescriptionStyleModel",
       "_view_count": null,
       "_view_module": "@jupyter-widgets/base",
       "_view_module_version": "1.2.0",
       "_view_name": "StyleView",
       "description_width": ""
      }
     },
     "46c1f04068e14f4286c4a8733d12e488": {
      "model_module": "@jupyter-widgets/controls",
      "model_module_version": "1.5.0",
      "model_name": "HTMLModel",
      "state": {
       "_dom_classes": [],
       "_model_module": "@jupyter-widgets/controls",
       "_model_module_version": "1.5.0",
       "_model_name": "HTMLModel",
       "_view_count": null,
       "_view_module": "@jupyter-widgets/controls",
       "_view_module_version": "1.5.0",
       "_view_name": "HTMLView",
       "description": "",
       "description_tooltip": null,
       "layout": "IPY_MODEL_bfa3e71be2d446d5839400544c4e1bec",
       "placeholder": "​",
       "style": "IPY_MODEL_403c37906b4842c1a62611405349365b",
       "value": " 160M/160M [00:02&lt;00:00, 86.5MB/s]"
      }
     },
     "4935b68c45fe45b494aac03eed3e577e": {
      "model_module": "@jupyter-widgets/base",
      "model_module_version": "1.2.0",
      "model_name": "LayoutModel",
      "state": {
       "_model_module": "@jupyter-widgets/base",
       "_model_module_version": "1.2.0",
       "_model_name": "LayoutModel",
       "_view_count": null,
       "_view_module": "@jupyter-widgets/base",
       "_view_module_version": "1.2.0",
       "_view_name": "LayoutView",
       "align_content": null,
       "align_items": null,
       "align_self": null,
       "border": null,
       "bottom": null,
       "display": null,
       "flex": null,
       "flex_flow": null,
       "grid_area": null,
       "grid_auto_columns": null,
       "grid_auto_flow": null,
       "grid_auto_rows": null,
       "grid_column": null,
       "grid_gap": null,
       "grid_row": null,
       "grid_template_areas": null,
       "grid_template_columns": null,
       "grid_template_rows": null,
       "height": null,
       "justify_content": null,
       "justify_items": null,
       "left": null,
       "margin": null,
       "max_height": null,
       "max_width": null,
       "min_height": null,
       "min_width": null,
       "object_fit": null,
       "object_position": null,
       "order": null,
       "overflow": null,
       "overflow_x": null,
       "overflow_y": null,
       "padding": null,
       "right": null,
       "top": null,
       "visibility": null,
       "width": null
      }
     },
     "5d141a204b624396bc60680e63bcc58c": {
      "model_module": "@jupyter-widgets/controls",
      "model_module_version": "1.5.0",
      "model_name": "ProgressStyleModel",
      "state": {
       "_model_module": "@jupyter-widgets/controls",
       "_model_module_version": "1.5.0",
       "_model_name": "ProgressStyleModel",
       "_view_count": null,
       "_view_module": "@jupyter-widgets/base",
       "_view_module_version": "1.2.0",
       "_view_name": "StyleView",
       "bar_color": null,
       "description_width": ""
      }
     },
     "61a60f7c3d0e492f91c331f9a422d3dd": {
      "model_module": "@jupyter-widgets/controls",
      "model_module_version": "1.5.0",
      "model_name": "DescriptionStyleModel",
      "state": {
       "_model_module": "@jupyter-widgets/controls",
       "_model_module_version": "1.5.0",
       "_model_name": "DescriptionStyleModel",
       "_view_count": null,
       "_view_module": "@jupyter-widgets/base",
       "_view_module_version": "1.2.0",
       "_view_name": "StyleView",
       "description_width": ""
      }
     },
     "694390fb59f84965ab37c3619c588383": {
      "model_module": "@jupyter-widgets/controls",
      "model_module_version": "1.5.0",
      "model_name": "FloatProgressModel",
      "state": {
       "_dom_classes": [],
       "_model_module": "@jupyter-widgets/controls",
       "_model_module_version": "1.5.0",
       "_model_name": "FloatProgressModel",
       "_view_count": null,
       "_view_module": "@jupyter-widgets/controls",
       "_view_module_version": "1.5.0",
       "_view_name": "ProgressView",
       "bar_style": "success",
       "description": "",
       "description_tooltip": null,
       "layout": "IPY_MODEL_4935b68c45fe45b494aac03eed3e577e",
       "max": 167502836.0,
       "min": 0.0,
       "orientation": "horizontal",
       "style": "IPY_MODEL_5d141a204b624396bc60680e63bcc58c",
       "value": 167502836.0
      }
     },
     "b41fd030e440411a96882f2653bfbae7": {
      "model_module": "@jupyter-widgets/base",
      "model_module_version": "1.2.0",
      "model_name": "LayoutModel",
      "state": {
       "_model_module": "@jupyter-widgets/base",
       "_model_module_version": "1.2.0",
       "_model_name": "LayoutModel",
       "_view_count": null,
       "_view_module": "@jupyter-widgets/base",
       "_view_module_version": "1.2.0",
       "_view_name": "LayoutView",
       "align_content": null,
       "align_items": null,
       "align_self": null,
       "border": null,
       "bottom": null,
       "display": null,
       "flex": null,
       "flex_flow": null,
       "grid_area": null,
       "grid_auto_columns": null,
       "grid_auto_flow": null,
       "grid_auto_rows": null,
       "grid_column": null,
       "grid_gap": null,
       "grid_row": null,
       "grid_template_areas": null,
       "grid_template_columns": null,
       "grid_template_rows": null,
       "height": null,
       "justify_content": null,
       "justify_items": null,
       "left": null,
       "margin": null,
       "max_height": null,
       "max_width": null,
       "min_height": null,
       "min_width": null,
       "object_fit": null,
       "object_position": null,
       "order": null,
       "overflow": null,
       "overflow_x": null,
       "overflow_y": null,
       "padding": null,
       "right": null,
       "top": null,
       "visibility": null,
       "width": null
      }
     },
     "bfa3e71be2d446d5839400544c4e1bec": {
      "model_module": "@jupyter-widgets/base",
      "model_module_version": "1.2.0",
      "model_name": "LayoutModel",
      "state": {
       "_model_module": "@jupyter-widgets/base",
       "_model_module_version": "1.2.0",
       "_model_name": "LayoutModel",
       "_view_count": null,
       "_view_module": "@jupyter-widgets/base",
       "_view_module_version": "1.2.0",
       "_view_name": "LayoutView",
       "align_content": null,
       "align_items": null,
       "align_self": null,
       "border": null,
       "bottom": null,
       "display": null,
       "flex": null,
       "flex_flow": null,
       "grid_area": null,
       "grid_auto_columns": null,
       "grid_auto_flow": null,
       "grid_auto_rows": null,
       "grid_column": null,
       "grid_gap": null,
       "grid_row": null,
       "grid_template_areas": null,
       "grid_template_columns": null,
       "grid_template_rows": null,
       "height": null,
       "justify_content": null,
       "justify_items": null,
       "left": null,
       "margin": null,
       "max_height": null,
       "max_width": null,
       "min_height": null,
       "min_width": null,
       "object_fit": null,
       "object_position": null,
       "order": null,
       "overflow": null,
       "overflow_x": null,
       "overflow_y": null,
       "padding": null,
       "right": null,
       "top": null,
       "visibility": null,
       "width": null
      }
     },
     "c005941f696e41f1a52ace507b840145": {
      "model_module": "@jupyter-widgets/base",
      "model_module_version": "1.2.0",
      "model_name": "LayoutModel",
      "state": {
       "_model_module": "@jupyter-widgets/base",
       "_model_module_version": "1.2.0",
       "_model_name": "LayoutModel",
       "_view_count": null,
       "_view_module": "@jupyter-widgets/base",
       "_view_module_version": "1.2.0",
       "_view_name": "LayoutView",
       "align_content": null,
       "align_items": null,
       "align_self": null,
       "border": null,
       "bottom": null,
       "display": null,
       "flex": null,
       "flex_flow": null,
       "grid_area": null,
       "grid_auto_columns": null,
       "grid_auto_flow": null,
       "grid_auto_rows": null,
       "grid_column": null,
       "grid_gap": null,
       "grid_row": null,
       "grid_template_areas": null,
       "grid_template_columns": null,
       "grid_template_rows": null,
       "height": null,
       "justify_content": null,
       "justify_items": null,
       "left": null,
       "margin": null,
       "max_height": null,
       "max_width": null,
       "min_height": null,
       "min_width": null,
       "object_fit": null,
       "object_position": null,
       "order": null,
       "overflow": null,
       "overflow_x": null,
       "overflow_y": null,
       "padding": null,
       "right": null,
       "top": null,
       "visibility": null,
       "width": null
      }
     },
     "f46512c746ec4b759231c7094ef2b812": {
      "model_module": "@jupyter-widgets/controls",
      "model_module_version": "1.5.0",
      "model_name": "HBoxModel",
      "state": {
       "_dom_classes": [],
       "_model_module": "@jupyter-widgets/controls",
       "_model_module_version": "1.5.0",
       "_model_name": "HBoxModel",
       "_view_count": null,
       "_view_module": "@jupyter-widgets/controls",
       "_view_module_version": "1.5.0",
       "_view_name": "HBoxView",
       "box_style": "",
       "children": [
        "IPY_MODEL_0e911998370a4282b388a73bd915bb94",
        "IPY_MODEL_694390fb59f84965ab37c3619c588383",
        "IPY_MODEL_46c1f04068e14f4286c4a8733d12e488"
       ],
       "layout": "IPY_MODEL_c005941f696e41f1a52ace507b840145"
      }
     }
    },
    "version_major": 2,
    "version_minor": 0
   }
  }
 },
 "nbformat": 4,
 "nbformat_minor": 5
}
